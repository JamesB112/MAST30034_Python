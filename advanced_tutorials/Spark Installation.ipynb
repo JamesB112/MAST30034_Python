{
 "cells": [
  {
   "cell_type": "markdown",
   "id": "8e89012c",
   "metadata": {},
   "source": [
    "## Method 1 (Docker)\n",
    "We will be using:\n",
    "- Docker for Windows 10 with WSL2 Backend (https://www.docker.com/)\n",
    "- AWS Glue container (https://hub.docker.com/r/amazon/aws-glue-libs)\n",
    "\n",
    "Steps:  \n",
    "0. (Pre-Req) Install WSL2.\n",
    "1. Download Docker and install.\n",
    "2. Set WSL2 as backend and restart.\n",
    "3. Launch WSL2 and run:\n",
    "```bash\n",
    "docker pull amazon/aws-glue-libs:glue_libs_1.0.0_image_01\n",
    "``` \n",
    "    - tag=`glue_libs_1.0.0_image_01` is the latest as of 2021\n",
    "4. Run and install the container:\n",
    "```bash\n",
    "docker run -itd -p 8888:8888 -p 4040:4040 -v %UserProfile%\\.aws:/root/.aws:rw -v C:\\Users\\YOUR_USERNAME\\Documents\\GitHub:/home/jupyter/jupyter_default_dir --name glue_jupyter amazon/aws-glue-libs:glue_libs_1.0.0_image_01 /home/jupyter/jupyter_start.sh\n",
    "```\n",
    "    - `p` specifies the port (i.e local development will be at `http://localhost:8888` or `http://localhost:4040`\n",
    "    - `-v` specifies the directory for your files\n",
    "    - `--name` specifies the container name (though the container ID will be different)\n",
    "5. Check to see the container is running with `docker ps`\n",
    "6. Launch Jupyter Notebook with your browser and open a `PySpark` kernel.\n",
    "\n",
    "## Method 2 (Preferred)\n",
    "We will be using:\n",
    "- Ubuntu 20.04 (WSL2) or MacOS.\n",
    "\n",
    "Steps:  \n",
    "0. (Pre-Req) Install WSL2 for Windows 10 users. MacOS users, please ensure your terminal is set to `bash`.\n",
    "1. Setup your Python environment (i.e `pip3 install notebook pandas numpy ...`)\n",
    "2. Install `Java` and `PySpark`:  \n",
    "- Linux\n",
    "```bash\n",
    "# install java\n",
    "sudo apt install openjdk-8-jdk -y\n",
    "# add to path\n",
    "echo 'JAVA_HOME=\"/usr/lib/jvm/java-8-openjdk-amd64\"' | sudo tee -a /etc/environment\n",
    "# apply to environment\n",
    "source /etc/environment\n",
    "# install spark\n",
    "pip3 install pyspark\n",
    "```\n",
    "- MacOS\n",
    "```bash\n",
    "# install java 8 and link to system java wrapper\n",
    "brew install openjdk@8\n",
    "sudo ln -sfn /usr/local/opt/openjdk@8/libexec/openjdk.jdk /Library/Java/JavaVirtualMachines/openjdk-8.jdk\n",
    "# add to path (earlier OSX defaults to bash while newer ones defaults to zsh)\n",
    "echo 'export JAVA_HOME=\"$(/usr/libexec/java_home -v1.8)\"' | tee -a $HOME/.bashrc $HOME/.zshrc\n",
    "# reload java path\n",
    "source $HOME/.bashrc ; source $HOME/.zshrc\n",
    "# install spark. Note: if you are using anaconda/conda environments, you need to make sure the pip3 is the correct pip3! Or you should install with conda directly!\n",
    "pip3 install pyspark\n",
    "```\n",
    "\n",
    "- MacOS with M1 Chips may need to follow this guide for Java JDK:\n",
    "https://code2care.org/q/install-native-java-jdk-jre-on-apple-silicon-m1-mac\n",
    "    \n",
    "3. Launch Jupyter Notebook.\n",
    "4. Start a Spark session:  \n",
    "\n",
    "```python\n",
    "from pyspark.sql import SparkSession\n",
    "\n",
    "spark = SparkSession.builder.getOrCreate()\n",
    "```\n"
   ]
  },
  {
   "cell_type": "markdown",
   "id": "b03fb8c8",
   "metadata": {},
   "source": [
    "If you can run the following code, then it works!"
   ]
  },
  {
   "cell_type": "markdown",
   "id": "b0daba05",
   "metadata": {},
   "source": [
    "```python\n",
    "from pyspark.sql import SparkSession\n",
    "\n",
    "# Create a spark session (which will run spark jobs)\n",
    "spark = SparkSession.builder.getOrCreate()\n",
    "```"
   ]
  },
  {
   "cell_type": "code",
   "execution_count": null,
   "id": "3280b1d7",
   "metadata": {
    "ExecuteTime": {
     "end_time": "2021-06-07T03:52:10.514492Z",
     "start_time": "2021-06-07T03:52:04.660201Z"
    }
   },
   "outputs": [],
   "source": [
    "from pyspark.sql import SparkSession\n",
    "\n",
    "# Create a spark session (which will run spark jobs)\n",
    "spark = SparkSession.builder.getOrCreate()\n",
    "\n",
    "# set some configs - you'll learn about them later on\n",
    "spark.conf.set('spark.sql.repl.eagerEval.enabled', True)\n",
    "\n",
    "sdf = spark.read.csv('../data/sample.csv', header=True)\n",
    "\n",
    "sdf"
   ]
  }
 ],
 "metadata": {
  "kernelspec": {
   "display_name": "Python 3",
   "language": "python",
   "name": "python3"
  },
  "language_info": {
   "codemirror_mode": {
    "name": "ipython",
    "version": 3
   },
   "file_extension": ".py",
   "mimetype": "text/x-python",
   "name": "python",
   "nbconvert_exporter": "python",
   "pygments_lexer": "ipython3",
   "version": "3.8.10"
  },
  "latex_envs": {
   "LaTeX_envs_menu_present": true,
   "autoclose": false,
   "autocomplete": true,
   "bibliofile": "biblio.bib",
   "cite_by": "apalike",
   "current_citInitial": 1,
   "eqLabelWithNumbers": true,
   "eqNumInitial": 1,
   "hotkeys": {
    "equation": "Ctrl-E",
    "itemize": "Ctrl-I"
   },
   "labels_anchors": false,
   "latex_user_defs": false,
   "report_style_numbering": false,
   "user_envs_cfg": false
  },
  "toc": {
   "base_numbering": 1,
   "nav_menu": {},
   "number_sections": true,
   "sideBar": true,
   "skip_h1_title": false,
   "title_cell": "Table of Contents",
   "title_sidebar": "Contents",
   "toc_cell": false,
   "toc_position": {},
   "toc_section_display": true,
   "toc_window_display": false
  },
  "varInspector": {
   "cols": {
    "lenName": 16,
    "lenType": 16,
    "lenVar": 40
   },
   "kernels_config": {
    "python": {
     "delete_cmd_postfix": "",
     "delete_cmd_prefix": "del ",
     "library": "var_list.py",
     "varRefreshCmd": "print(var_dic_list())"
    },
    "r": {
     "delete_cmd_postfix": ") ",
     "delete_cmd_prefix": "rm(",
     "library": "var_list.r",
     "varRefreshCmd": "cat(var_dic_list()) "
    }
   },
   "types_to_exclude": [
    "module",
    "function",
    "builtin_function_or_method",
    "instance",
    "_Feature"
   ],
   "window_display": false
  }
 },
 "nbformat": 4,
 "nbformat_minor": 5
}
