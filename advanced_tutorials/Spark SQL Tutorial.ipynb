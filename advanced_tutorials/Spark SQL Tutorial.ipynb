{
 "cells": [
  {
   "cell_type": "markdown",
   "id": "988f37e5",
   "metadata": {},
   "source": [
    "# Spark SQL Tutorial\n",
    "- Author: Akira Takihara Wang (https://github.com/akiratwang)\n",
    "- Tutorial Up-to-Date as of: April 2021  \n",
    "- Usage: For MAST30034 students only  \n"
   ]
  },
  {
   "cell_type": "code",
   "execution_count": 1,
   "id": "b8cb0abc",
   "metadata": {
    "ExecuteTime": {
     "end_time": "2021-06-07T04:10:56.492552Z",
     "start_time": "2021-06-07T04:10:53.370764Z"
    }
   },
   "outputs": [],
   "source": [
    "from pyspark import SparkContext\n",
    "from pyspark.sql import SparkSession\n",
    "\n",
    "# Start the spark context\n",
    "sc = SparkContext.getOrCreate(conf=swan_spark_conf)\n",
    "\n",
    "# create a spark session (which will run spark jobs)\n",
    "spark = SparkSession.builder.getOrCreate()\n",
    "\n",
    "# apply settings to session\n",
    "spark.conf.set('spark.sql.repl.eagerEval.enabled', True)\n",
    "spark.conf.set('spark.sql.execution.arrow.pyspark.enabled', True)"
   ]
  },
  {
   "cell_type": "markdown",
   "id": "6b351889",
   "metadata": {},
   "source": [
    "Let's create a schema using DDL formatted strings."
   ]
  },
  {
   "cell_type": "code",
   "execution_count": 2,
   "id": "30c1f593",
   "metadata": {
    "ExecuteTime": {
     "end_time": "2021-06-07T04:10:56.496558Z",
     "start_time": "2021-06-07T04:10:56.494299Z"
    }
   },
   "outputs": [],
   "source": [
    "# create DDL\n",
    "schema = \"\"\"\n",
    "`VendorID` INT, `tpep_pickup_datetime` STRING, `tpep_dropoff_datetime` STRING,\n",
    "`passenger_count` INT, `trip_distance` DOUBLE, `pickup_longitude` DOUBLE, `pickup_latitude` DOUBLE,\n",
    "`RateCodeID` INT, `store_and_fwd_flag` STRING, `dropoff_longitude` DOUBLE, `dropoff_latitude` DOUBLE,\n",
    "`payment_type` INT, `fare_amount` DOUBLE, `extra` DOUBLE, `mta_tax` DOUBLE, `tip_amount` DOUBLE,\n",
    "`tolls_amount` DOUBLE, `improvement_surcharge` DOUBLE, `total_amount` DOUBLE\n",
    "\"\"\""
   ]
  },
  {
   "cell_type": "code",
   "execution_count": 3,
   "id": "d0ab6b21",
   "metadata": {
    "ExecuteTime": {
     "end_time": "2021-06-07T04:10:57.903053Z",
     "start_time": "2021-06-07T04:10:56.498287Z"
    }
   },
   "outputs": [
    {
     "data": {
      "text/plain": [
       "StructType(List(StructField(VendorID,IntegerType,true),StructField(tpep_pickup_datetime,StringType,true),StructField(tpep_dropoff_datetime,StringType,true),StructField(passenger_count,IntegerType,true),StructField(trip_distance,DoubleType,true),StructField(pickup_longitude,DoubleType,true),StructField(pickup_latitude,DoubleType,true),StructField(RateCodeID,IntegerType,true),StructField(store_and_fwd_flag,StringType,true),StructField(dropoff_longitude,DoubleType,true),StructField(dropoff_latitude,DoubleType,true),StructField(payment_type,IntegerType,true),StructField(fare_amount,DoubleType,true),StructField(extra,DoubleType,true),StructField(mta_tax,DoubleType,true),StructField(tip_amount,DoubleType,true),StructField(tolls_amount,DoubleType,true),StructField(improvement_surcharge,DoubleType,true),StructField(total_amount,DoubleType,true)))"
      ]
     },
     "execution_count": 3,
     "metadata": {},
     "output_type": "execute_result"
    }
   ],
   "source": [
    "sdf = spark.read.csv('../data/sample.csv', header=True, schema=schema)\n",
    "sdf.schema"
   ]
  },
  {
   "cell_type": "markdown",
   "id": "53d7ea7e",
   "metadata": {},
   "source": [
    "- As you can see, this achieves the same result as using `StructType()`, but may be easier or more difficult depending on the number of columns you have. \n",
    "- My personal preference would be using `StructType()` for this dataset as you can use generator functions to simplify the allocation of dtypes."
   ]
  },
  {
   "cell_type": "code",
   "execution_count": 4,
   "id": "6754d319",
   "metadata": {
    "ExecuteTime": {
     "end_time": "2021-06-07T04:10:59.913547Z",
     "start_time": "2021-06-07T04:10:57.904256Z"
    }
   },
   "outputs": [
    {
     "data": {
      "text/html": [
       "<table border='1'>\n",
       "<tr><th>VendorID</th><th>tpep_pickup_datetime</th><th>tpep_dropoff_datetime</th><th>passenger_count</th><th>trip_distance</th><th>pickup_longitude</th><th>pickup_latitude</th><th>RateCodeID</th><th>store_and_fwd_flag</th><th>dropoff_longitude</th><th>dropoff_latitude</th><th>payment_type</th><th>fare_amount</th><th>extra</th><th>mta_tax</th><th>tip_amount</th><th>tolls_amount</th><th>improvement_surcharge</th><th>total_amount</th></tr>\n",
       "<tr><td>2</td><td>1/12/15 0:00</td><td>1/12/15 0:05</td><td>5</td><td>0.96</td><td>-73.97994232</td><td>40.76538086</td><td>1</td><td>N</td><td>-73.96630859</td><td>40.76308823</td><td>1</td><td>5.5</td><td>0.5</td><td>0.5</td><td>1.0</td><td>0.0</td><td>0.3</td><td>7.8</td></tr>\n",
       "<tr><td>2</td><td>1/12/15 0:00</td><td>1/12/15 0:00</td><td>2</td><td>2.69</td><td>-73.97233582</td><td>40.76237869</td><td>1</td><td>N</td><td>-73.99362946</td><td>40.74599838</td><td>1</td><td>21.5</td><td>0.0</td><td>0.5</td><td>3.34</td><td>0.0</td><td>0.3</td><td>25.64</td></tr>\n",
       "<tr><td>2</td><td>1/12/15 0:00</td><td>1/12/15 0:00</td><td>1</td><td>2.62</td><td>-73.96884918</td><td>40.76453018</td><td>1</td><td>N</td><td>-73.97454834</td><td>40.79164124</td><td>1</td><td>17.0</td><td>0.0</td><td>0.5</td><td>3.56</td><td>0.0</td><td>0.3</td><td>21.36</td></tr>\n",
       "<tr><td>1</td><td>1/12/15 0:00</td><td>1/12/15 0:05</td><td>1</td><td>1.2</td><td>-73.99393463</td><td>40.74168396</td><td>1</td><td>N</td><td>-73.99766541</td><td>40.74746704</td><td>1</td><td>6.5</td><td>0.5</td><td>0.5</td><td>0.2</td><td>0.0</td><td>0.3</td><td>8.0</td></tr>\n",
       "<tr><td>1</td><td>1/12/15 0:00</td><td>1/12/15 0:09</td><td>2</td><td>3.0</td><td>-73.98892212</td><td>40.72698975</td><td>1</td><td>N</td><td>-73.97559357</td><td>40.6968689</td><td>2</td><td>11.0</td><td>0.5</td><td>0.5</td><td>0.0</td><td>0.0</td><td>0.3</td><td>12.3</td></tr>\n",
       "</table>\n"
      ],
      "text/plain": [
       "+--------+--------------------+---------------------+---------------+-------------+----------------+---------------+----------+------------------+-----------------+----------------+------------+-----------+-----+-------+----------+------------+---------------------+------------+\n",
       "|VendorID|tpep_pickup_datetime|tpep_dropoff_datetime|passenger_count|trip_distance|pickup_longitude|pickup_latitude|RateCodeID|store_and_fwd_flag|dropoff_longitude|dropoff_latitude|payment_type|fare_amount|extra|mta_tax|tip_amount|tolls_amount|improvement_surcharge|total_amount|\n",
       "+--------+--------------------+---------------------+---------------+-------------+----------------+---------------+----------+------------------+-----------------+----------------+------------+-----------+-----+-------+----------+------------+---------------------+------------+\n",
       "|       2|        1/12/15 0:00|         1/12/15 0:05|              5|         0.96|    -73.97994232|    40.76538086|         1|                 N|     -73.96630859|     40.76308823|           1|        5.5|  0.5|    0.5|       1.0|         0.0|                  0.3|         7.8|\n",
       "|       2|        1/12/15 0:00|         1/12/15 0:00|              2|         2.69|    -73.97233582|    40.76237869|         1|                 N|     -73.99362946|     40.74599838|           1|       21.5|  0.0|    0.5|      3.34|         0.0|                  0.3|       25.64|\n",
       "|       2|        1/12/15 0:00|         1/12/15 0:00|              1|         2.62|    -73.96884918|    40.76453018|         1|                 N|     -73.97454834|     40.79164124|           1|       17.0|  0.0|    0.5|      3.56|         0.0|                  0.3|       21.36|\n",
       "|       1|        1/12/15 0:00|         1/12/15 0:05|              1|          1.2|    -73.99393463|    40.74168396|         1|                 N|     -73.99766541|     40.74746704|           1|        6.5|  0.5|    0.5|       0.2|         0.0|                  0.3|         8.0|\n",
       "|       1|        1/12/15 0:00|         1/12/15 0:09|              2|          3.0|    -73.98892212|    40.72698975|         1|                 N|     -73.97559357|      40.6968689|           2|       11.0|  0.5|    0.5|       0.0|         0.0|                  0.3|        12.3|\n",
       "+--------+--------------------+---------------------+---------------+-------------+----------------+---------------+----------+------------------+-----------------+----------------+------------+-----------+-----+-------+----------+------------+---------------------+------------+"
      ]
     },
     "execution_count": 4,
     "metadata": {},
     "output_type": "execute_result"
    }
   ],
   "source": [
    "sdf.limit(5)"
   ]
  },
  {
   "cell_type": "markdown",
   "id": "78fa9980",
   "metadata": {},
   "source": [
    "Now let's get our datetimes into `TIMESTAMP` formats (since our current dataset does not have the correct format)."
   ]
  },
  {
   "cell_type": "code",
   "execution_count": 5,
   "id": "f6cb9a82",
   "metadata": {
    "ExecuteTime": {
     "end_time": "2021-06-07T04:10:59.921026Z",
     "start_time": "2021-06-07T04:10:59.914696Z"
    }
   },
   "outputs": [],
   "source": [
    "import pyspark.sql.functions as F\n",
    "\n",
    "from pyspark.sql.functions import col\n",
    "from pyspark.sql.types import *"
   ]
  },
  {
   "cell_type": "code",
   "execution_count": 6,
   "id": "d070f925",
   "metadata": {
    "ExecuteTime": {
     "end_time": "2021-06-07T04:10:59.941046Z",
     "start_time": "2021-06-07T04:10:59.922157Z"
    }
   },
   "outputs": [],
   "source": [
    "# create UDF\n",
    "from datetime import datetime\n",
    "\n",
    "@F.udf(\"timestamp\")\n",
    "def format_dtime(dtime):\n",
    "    date, time = dtime.split()\n",
    "    d, m, y = map(int, date.split('/'))\n",
    "    # year is abbreviated\n",
    "    y = int(f\"20{y}\")\n",
    "    \n",
    "    h, mins = map(int, time.split(':'))\n",
    "    return datetime(y, m, d, h, mins)"
   ]
  },
  {
   "cell_type": "code",
   "execution_count": 7,
   "id": "b23558b7",
   "metadata": {
    "ExecuteTime": {
     "end_time": "2021-06-07T04:11:01.537589Z",
     "start_time": "2021-06-07T04:10:59.943120Z"
    }
   },
   "outputs": [
    {
     "data": {
      "text/html": [
       "<table border='1'>\n",
       "<tr><th>VendorID</th><th>tpep_pickup_datetime</th><th>tpep_dropoff_datetime</th><th>passenger_count</th><th>trip_distance</th><th>pickup_longitude</th><th>pickup_latitude</th><th>RateCodeID</th><th>store_and_fwd_flag</th><th>dropoff_longitude</th><th>dropoff_latitude</th><th>payment_type</th><th>fare_amount</th><th>extra</th><th>mta_tax</th><th>tip_amount</th><th>tolls_amount</th><th>improvement_surcharge</th><th>total_amount</th></tr>\n",
       "<tr><td>2</td><td>2015-12-01 00:00:00</td><td>2015-12-01 00:05:00</td><td>5</td><td>0.96</td><td>-73.97994232</td><td>40.76538086</td><td>1</td><td>N</td><td>-73.96630859</td><td>40.76308823</td><td>1</td><td>5.5</td><td>0.5</td><td>0.5</td><td>1.0</td><td>0.0</td><td>0.3</td><td>7.8</td></tr>\n",
       "<tr><td>2</td><td>2015-12-01 00:00:00</td><td>2015-12-01 00:00:00</td><td>2</td><td>2.69</td><td>-73.97233582</td><td>40.76237869</td><td>1</td><td>N</td><td>-73.99362946</td><td>40.74599838</td><td>1</td><td>21.5</td><td>0.0</td><td>0.5</td><td>3.34</td><td>0.0</td><td>0.3</td><td>25.64</td></tr>\n",
       "<tr><td>2</td><td>2015-12-01 00:00:00</td><td>2015-12-01 00:00:00</td><td>1</td><td>2.62</td><td>-73.96884918</td><td>40.76453018</td><td>1</td><td>N</td><td>-73.97454834</td><td>40.79164124</td><td>1</td><td>17.0</td><td>0.0</td><td>0.5</td><td>3.56</td><td>0.0</td><td>0.3</td><td>21.36</td></tr>\n",
       "<tr><td>1</td><td>2015-12-01 00:00:00</td><td>2015-12-01 00:05:00</td><td>1</td><td>1.2</td><td>-73.99393463</td><td>40.74168396</td><td>1</td><td>N</td><td>-73.99766541</td><td>40.74746704</td><td>1</td><td>6.5</td><td>0.5</td><td>0.5</td><td>0.2</td><td>0.0</td><td>0.3</td><td>8.0</td></tr>\n",
       "<tr><td>1</td><td>2015-12-01 00:00:00</td><td>2015-12-01 00:09:00</td><td>2</td><td>3.0</td><td>-73.98892212</td><td>40.72698975</td><td>1</td><td>N</td><td>-73.97559357</td><td>40.6968689</td><td>2</td><td>11.0</td><td>0.5</td><td>0.5</td><td>0.0</td><td>0.0</td><td>0.3</td><td>12.3</td></tr>\n",
       "</table>\n"
      ],
      "text/plain": [
       "+--------+--------------------+---------------------+---------------+-------------+----------------+---------------+----------+------------------+-----------------+----------------+------------+-----------+-----+-------+----------+------------+---------------------+------------+\n",
       "|VendorID|tpep_pickup_datetime|tpep_dropoff_datetime|passenger_count|trip_distance|pickup_longitude|pickup_latitude|RateCodeID|store_and_fwd_flag|dropoff_longitude|dropoff_latitude|payment_type|fare_amount|extra|mta_tax|tip_amount|tolls_amount|improvement_surcharge|total_amount|\n",
       "+--------+--------------------+---------------------+---------------+-------------+----------------+---------------+----------+------------------+-----------------+----------------+------------+-----------+-----+-------+----------+------------+---------------------+------------+\n",
       "|       2| 2015-12-01 00:00:00|  2015-12-01 00:05:00|              5|         0.96|    -73.97994232|    40.76538086|         1|                 N|     -73.96630859|     40.76308823|           1|        5.5|  0.5|    0.5|       1.0|         0.0|                  0.3|         7.8|\n",
       "|       2| 2015-12-01 00:00:00|  2015-12-01 00:00:00|              2|         2.69|    -73.97233582|    40.76237869|         1|                 N|     -73.99362946|     40.74599838|           1|       21.5|  0.0|    0.5|      3.34|         0.0|                  0.3|       25.64|\n",
       "|       2| 2015-12-01 00:00:00|  2015-12-01 00:00:00|              1|         2.62|    -73.96884918|    40.76453018|         1|                 N|     -73.97454834|     40.79164124|           1|       17.0|  0.0|    0.5|      3.56|         0.0|                  0.3|       21.36|\n",
       "|       1| 2015-12-01 00:00:00|  2015-12-01 00:05:00|              1|          1.2|    -73.99393463|    40.74168396|         1|                 N|     -73.99766541|     40.74746704|           1|        6.5|  0.5|    0.5|       0.2|         0.0|                  0.3|         8.0|\n",
       "|       1| 2015-12-01 00:00:00|  2015-12-01 00:09:00|              2|          3.0|    -73.98892212|    40.72698975|         1|                 N|     -73.97559357|      40.6968689|           2|       11.0|  0.5|    0.5|       0.0|         0.0|                  0.3|        12.3|\n",
       "+--------+--------------------+---------------------+---------------+-------------+----------------+---------------+----------+------------------+-----------------+----------------+------------+-----------+-----+-------+----------+------------+---------------------+------------+"
      ]
     },
     "execution_count": 7,
     "metadata": {},
     "output_type": "execute_result"
    }
   ],
   "source": [
    "sdf.withColumn(\"tpep_pickup_datetime\", format_dtime('tpep_pickup_datetime')) \\\n",
    "    .withColumn(\"tpep_dropoff_datetime\", format_dtime('tpep_dropoff_datetime')) \\\n",
    "    .limit(5)"
   ]
  },
  {
   "cell_type": "markdown",
   "id": "889c4765",
   "metadata": {},
   "source": [
    "- Conversion looks good to me, so let's keep it.\n",
    "- Remember, Spark is immutable."
   ]
  },
  {
   "cell_type": "code",
   "execution_count": 8,
   "id": "ce854550",
   "metadata": {
    "ExecuteTime": {
     "end_time": "2021-06-07T04:11:01.564552Z",
     "start_time": "2021-06-07T04:11:01.539249Z"
    }
   },
   "outputs": [],
   "source": [
    "sdf = sdf.withColumn(\"tpep_pickup_datetime\", format_dtime('tpep_pickup_datetime')) \\\n",
    "    .withColumn(\"tpep_dropoff_datetime\", format_dtime('tpep_dropoff_datetime'))"
   ]
  },
  {
   "cell_type": "code",
   "execution_count": 9,
   "id": "ffd2d96d",
   "metadata": {
    "ExecuteTime": {
     "end_time": "2021-06-07T04:11:02.742043Z",
     "start_time": "2021-06-07T04:11:01.566134Z"
    }
   },
   "outputs": [
    {
     "data": {
      "text/html": [
       "<table border='1'>\n",
       "<tr><th>VendorID</th><th>tpep_pickup_datetime</th><th>tpep_dropoff_datetime</th><th>passenger_count</th><th>trip_distance</th><th>pickup_longitude</th><th>pickup_latitude</th><th>RateCodeID</th><th>store_and_fwd_flag</th><th>dropoff_longitude</th><th>dropoff_latitude</th><th>payment_type</th><th>fare_amount</th><th>extra</th><th>mta_tax</th><th>tip_amount</th><th>tolls_amount</th><th>improvement_surcharge</th><th>total_amount</th></tr>\n",
       "<tr><td>2</td><td>2015-12-01 00:00:00</td><td>2015-12-01 00:05:00</td><td>5</td><td>0.96</td><td>-73.97994232</td><td>40.76538086</td><td>1</td><td>N</td><td>-73.96630859</td><td>40.76308823</td><td>1</td><td>5.5</td><td>0.5</td><td>0.5</td><td>1.0</td><td>0.0</td><td>0.3</td><td>7.8</td></tr>\n",
       "<tr><td>2</td><td>2015-12-01 00:00:00</td><td>2015-12-01 00:00:00</td><td>2</td><td>2.69</td><td>-73.97233582</td><td>40.76237869</td><td>1</td><td>N</td><td>-73.99362946</td><td>40.74599838</td><td>1</td><td>21.5</td><td>0.0</td><td>0.5</td><td>3.34</td><td>0.0</td><td>0.3</td><td>25.64</td></tr>\n",
       "<tr><td>2</td><td>2015-12-01 00:00:00</td><td>2015-12-01 00:00:00</td><td>1</td><td>2.62</td><td>-73.96884918</td><td>40.76453018</td><td>1</td><td>N</td><td>-73.97454834</td><td>40.79164124</td><td>1</td><td>17.0</td><td>0.0</td><td>0.5</td><td>3.56</td><td>0.0</td><td>0.3</td><td>21.36</td></tr>\n",
       "<tr><td>1</td><td>2015-12-01 00:00:00</td><td>2015-12-01 00:05:00</td><td>1</td><td>1.2</td><td>-73.99393463</td><td>40.74168396</td><td>1</td><td>N</td><td>-73.99766541</td><td>40.74746704</td><td>1</td><td>6.5</td><td>0.5</td><td>0.5</td><td>0.2</td><td>0.0</td><td>0.3</td><td>8.0</td></tr>\n",
       "<tr><td>1</td><td>2015-12-01 00:00:00</td><td>2015-12-01 00:09:00</td><td>2</td><td>3.0</td><td>-73.98892212</td><td>40.72698975</td><td>1</td><td>N</td><td>-73.97559357</td><td>40.6968689</td><td>2</td><td>11.0</td><td>0.5</td><td>0.5</td><td>0.0</td><td>0.0</td><td>0.3</td><td>12.3</td></tr>\n",
       "</table>\n"
      ],
      "text/plain": [
       "+--------+--------------------+---------------------+---------------+-------------+----------------+---------------+----------+------------------+-----------------+----------------+------------+-----------+-----+-------+----------+------------+---------------------+------------+\n",
       "|VendorID|tpep_pickup_datetime|tpep_dropoff_datetime|passenger_count|trip_distance|pickup_longitude|pickup_latitude|RateCodeID|store_and_fwd_flag|dropoff_longitude|dropoff_latitude|payment_type|fare_amount|extra|mta_tax|tip_amount|tolls_amount|improvement_surcharge|total_amount|\n",
       "+--------+--------------------+---------------------+---------------+-------------+----------------+---------------+----------+------------------+-----------------+----------------+------------+-----------+-----+-------+----------+------------+---------------------+------------+\n",
       "|       2| 2015-12-01 00:00:00|  2015-12-01 00:05:00|              5|         0.96|    -73.97994232|    40.76538086|         1|                 N|     -73.96630859|     40.76308823|           1|        5.5|  0.5|    0.5|       1.0|         0.0|                  0.3|         7.8|\n",
       "|       2| 2015-12-01 00:00:00|  2015-12-01 00:00:00|              2|         2.69|    -73.97233582|    40.76237869|         1|                 N|     -73.99362946|     40.74599838|           1|       21.5|  0.0|    0.5|      3.34|         0.0|                  0.3|       25.64|\n",
       "|       2| 2015-12-01 00:00:00|  2015-12-01 00:00:00|              1|         2.62|    -73.96884918|    40.76453018|         1|                 N|     -73.97454834|     40.79164124|           1|       17.0|  0.0|    0.5|      3.56|         0.0|                  0.3|       21.36|\n",
       "|       1| 2015-12-01 00:00:00|  2015-12-01 00:05:00|              1|          1.2|    -73.99393463|    40.74168396|         1|                 N|     -73.99766541|     40.74746704|           1|        6.5|  0.5|    0.5|       0.2|         0.0|                  0.3|         8.0|\n",
       "|       1| 2015-12-01 00:00:00|  2015-12-01 00:09:00|              2|          3.0|    -73.98892212|    40.72698975|         1|                 N|     -73.97559357|      40.6968689|           2|       11.0|  0.5|    0.5|       0.0|         0.0|                  0.3|        12.3|\n",
       "+--------+--------------------+---------------------+---------------+-------------+----------------+---------------+----------+------------------+-----------------+----------------+------------+-----------+-----+-------+----------+------------+---------------------+------------+"
      ]
     },
     "execution_count": 9,
     "metadata": {},
     "output_type": "execute_result"
    }
   ],
   "source": [
    "sdf.limit(5)"
   ]
  },
  {
   "cell_type": "markdown",
   "id": "e6510b44",
   "metadata": {},
   "source": [
    "## Creating a SQL Table with an existing Spark DataFrame\n",
    "The easiest method is to use `sdf.createOrReplaceTempView(TABLE_NAME)`\n"
   ]
  },
  {
   "cell_type": "code",
   "execution_count": 10,
   "id": "4deaeaf6",
   "metadata": {
    "ExecuteTime": {
     "end_time": "2021-06-07T04:11:02.774219Z",
     "start_time": "2021-06-07T04:11:02.743659Z"
    }
   },
   "outputs": [],
   "source": [
    "sdf.createOrReplaceTempView(\"taxi_data\")"
   ]
  },
  {
   "cell_type": "markdown",
   "id": "cb0dad22",
   "metadata": {},
   "source": [
    "Select all columns from our table, where the Vendor is `VeriFone Inc.`, has at least 1 passenger with trip distances greater than 1 mile."
   ]
  },
  {
   "cell_type": "code",
   "execution_count": 11,
   "id": "02bbd999",
   "metadata": {
    "ExecuteTime": {
     "end_time": "2021-06-07T04:11:03.937026Z",
     "start_time": "2021-06-07T04:11:02.778870Z"
    },
    "scrolled": true
   },
   "outputs": [
    {
     "data": {
      "text/html": [
       "<table border='1'>\n",
       "<tr><th>VendorID</th><th>tpep_pickup_datetime</th><th>tpep_dropoff_datetime</th><th>passenger_count</th><th>trip_distance</th><th>pickup_longitude</th><th>pickup_latitude</th><th>RateCodeID</th><th>store_and_fwd_flag</th><th>dropoff_longitude</th><th>dropoff_latitude</th><th>payment_type</th><th>fare_amount</th><th>extra</th><th>mta_tax</th><th>tip_amount</th><th>tolls_amount</th><th>improvement_surcharge</th><th>total_amount</th></tr>\n",
       "<tr><td>2</td><td>2015-12-01 00:00:00</td><td>2015-12-01 00:00:00</td><td>2</td><td>2.69</td><td>-73.97233582</td><td>40.76237869</td><td>1</td><td>N</td><td>-73.99362946</td><td>40.74599838</td><td>1</td><td>21.5</td><td>0.0</td><td>0.5</td><td>3.34</td><td>0.0</td><td>0.3</td><td>25.64</td></tr>\n",
       "<tr><td>2</td><td>2015-12-01 00:00:00</td><td>2015-12-01 00:00:00</td><td>1</td><td>2.62</td><td>-73.96884918</td><td>40.76453018</td><td>1</td><td>N</td><td>-73.97454834</td><td>40.79164124</td><td>1</td><td>17.0</td><td>0.0</td><td>0.5</td><td>3.56</td><td>0.0</td><td>0.3</td><td>21.36</td></tr>\n",
       "<tr><td>2</td><td>2015-12-01 00:00:00</td><td>2015-12-01 00:08:00</td><td>2</td><td>1.91</td><td>-73.99420929</td><td>40.74610138</td><td>1</td><td>N</td><td>-74.00424957</td><td>40.72180939</td><td>1</td><td>8.0</td><td>0.5</td><td>0.5</td><td>1.86</td><td>0.0</td><td>0.3</td><td>11.16</td></tr>\n",
       "<tr><td>2</td><td>2015-12-01 00:00:00</td><td>2015-12-01 00:17:00</td><td>1</td><td>4.5</td><td>-74.00675964</td><td>40.7189064</td><td>1</td><td>N</td><td>-73.98969269</td><td>40.77285385</td><td>1</td><td>16.5</td><td>0.5</td><td>0.5</td><td>3.56</td><td>0.0</td><td>0.3</td><td>21.36</td></tr>\n",
       "<tr><td>2</td><td>2015-12-01 00:00:00</td><td>2015-12-01 00:10:00</td><td>2</td><td>1.42</td><td>-73.99963379</td><td>40.73477173</td><td>1</td><td>N</td><td>-73.98906708</td><td>40.72312164</td><td>1</td><td>8.5</td><td>0.5</td><td>0.5</td><td>2.45</td><td>0.0</td><td>0.3</td><td>12.25</td></tr>\n",
       "</table>\n"
      ],
      "text/plain": [
       "+--------+--------------------+---------------------+---------------+-------------+----------------+---------------+----------+------------------+-----------------+----------------+------------+-----------+-----+-------+----------+------------+---------------------+------------+\n",
       "|VendorID|tpep_pickup_datetime|tpep_dropoff_datetime|passenger_count|trip_distance|pickup_longitude|pickup_latitude|RateCodeID|store_and_fwd_flag|dropoff_longitude|dropoff_latitude|payment_type|fare_amount|extra|mta_tax|tip_amount|tolls_amount|improvement_surcharge|total_amount|\n",
       "+--------+--------------------+---------------------+---------------+-------------+----------------+---------------+----------+------------------+-----------------+----------------+------------+-----------+-----+-------+----------+------------+---------------------+------------+\n",
       "|       2| 2015-12-01 00:00:00|  2015-12-01 00:00:00|              2|         2.69|    -73.97233582|    40.76237869|         1|                 N|     -73.99362946|     40.74599838|           1|       21.5|  0.0|    0.5|      3.34|         0.0|                  0.3|       25.64|\n",
       "|       2| 2015-12-01 00:00:00|  2015-12-01 00:00:00|              1|         2.62|    -73.96884918|    40.76453018|         1|                 N|     -73.97454834|     40.79164124|           1|       17.0|  0.0|    0.5|      3.56|         0.0|                  0.3|       21.36|\n",
       "|       2| 2015-12-01 00:00:00|  2015-12-01 00:08:00|              2|         1.91|    -73.99420929|    40.74610138|         1|                 N|     -74.00424957|     40.72180939|           1|        8.0|  0.5|    0.5|      1.86|         0.0|                  0.3|       11.16|\n",
       "|       2| 2015-12-01 00:00:00|  2015-12-01 00:17:00|              1|          4.5|    -74.00675964|     40.7189064|         1|                 N|     -73.98969269|     40.77285385|           1|       16.5|  0.5|    0.5|      3.56|         0.0|                  0.3|       21.36|\n",
       "|       2| 2015-12-01 00:00:00|  2015-12-01 00:10:00|              2|         1.42|    -73.99963379|    40.73477173|         1|                 N|     -73.98906708|     40.72312164|           1|        8.5|  0.5|    0.5|      2.45|         0.0|                  0.3|       12.25|\n",
       "+--------+--------------------+---------------------+---------------+-------------+----------------+---------------+----------+------------------+-----------------+----------------+------------+-----------+-----+-------+----------+------------+---------------------+------------+"
      ]
     },
     "execution_count": 11,
     "metadata": {},
     "output_type": "execute_result"
    }
   ],
   "source": [
    "sql_query = \"\"\"\n",
    "SELECT * \n",
    "FROM taxi_data\n",
    "WHERE VendorID = 2\n",
    "    AND passenger_count >= 1\n",
    "    AND trip_distance >= 1\n",
    "LIMIT 5\n",
    "\"\"\"\n",
    "\n",
    "spark.sql(sql_query)"
   ]
  },
  {
   "cell_type": "markdown",
   "id": "c0561c87",
   "metadata": {},
   "source": [
    "To list all metadata:\n",
    "- Databases: `spark.catalog.listDatabases()`\n",
    "- Tables: `spark.catalog.listTables()`\n",
    "- Columns of a table: `spark.catalog.listColumns(TABLE_NAME)`"
   ]
  },
  {
   "cell_type": "code",
   "execution_count": 12,
   "id": "18ec98dd",
   "metadata": {
    "ExecuteTime": {
     "end_time": "2021-06-07T04:11:04.186548Z",
     "start_time": "2021-06-07T04:11:03.938561Z"
    }
   },
   "outputs": [
    {
     "data": {
      "text/plain": [
       "[Database(name='default', description='default database', locationUri='file:/mnt/c/users/akira/documents/github/MAST30034/advanced_tutorials/spark-warehouse')]"
      ]
     },
     "execution_count": 12,
     "metadata": {},
     "output_type": "execute_result"
    }
   ],
   "source": [
    "spark.catalog.listDatabases()"
   ]
  },
  {
   "cell_type": "code",
   "execution_count": 13,
   "id": "ad6950cb",
   "metadata": {
    "ExecuteTime": {
     "end_time": "2021-06-07T04:11:04.295884Z",
     "start_time": "2021-06-07T04:11:04.187775Z"
    }
   },
   "outputs": [
    {
     "data": {
      "text/plain": [
       "[Table(name='taxi_data', database=None, description=None, tableType='TEMPORARY', isTemporary=True)]"
      ]
     },
     "execution_count": 13,
     "metadata": {},
     "output_type": "execute_result"
    }
   ],
   "source": [
    "spark.catalog.listTables()"
   ]
  },
  {
   "cell_type": "markdown",
   "id": "641a4ae1",
   "metadata": {},
   "source": [
    "...and the alternative using DataFrame API if you want to."
   ]
  },
  {
   "cell_type": "code",
   "execution_count": 14,
   "id": "d535a38e",
   "metadata": {
    "ExecuteTime": {
     "end_time": "2021-06-07T04:11:05.465064Z",
     "start_time": "2021-06-07T04:11:04.298370Z"
    }
   },
   "outputs": [
    {
     "data": {
      "text/html": [
       "<table border='1'>\n",
       "<tr><th>VendorID</th><th>tpep_pickup_datetime</th><th>tpep_dropoff_datetime</th><th>passenger_count</th><th>trip_distance</th><th>pickup_longitude</th><th>pickup_latitude</th><th>RateCodeID</th><th>store_and_fwd_flag</th><th>dropoff_longitude</th><th>dropoff_latitude</th><th>payment_type</th><th>fare_amount</th><th>extra</th><th>mta_tax</th><th>tip_amount</th><th>tolls_amount</th><th>improvement_surcharge</th><th>total_amount</th></tr>\n",
       "<tr><td>2</td><td>2015-12-01 00:00:00</td><td>2015-12-01 00:00:00</td><td>2</td><td>2.69</td><td>-73.97233582</td><td>40.76237869</td><td>1</td><td>N</td><td>-73.99362946</td><td>40.74599838</td><td>1</td><td>21.5</td><td>0.0</td><td>0.5</td><td>3.34</td><td>0.0</td><td>0.3</td><td>25.64</td></tr>\n",
       "<tr><td>2</td><td>2015-12-01 00:00:00</td><td>2015-12-01 00:00:00</td><td>1</td><td>2.62</td><td>-73.96884918</td><td>40.76453018</td><td>1</td><td>N</td><td>-73.97454834</td><td>40.79164124</td><td>1</td><td>17.0</td><td>0.0</td><td>0.5</td><td>3.56</td><td>0.0</td><td>0.3</td><td>21.36</td></tr>\n",
       "<tr><td>2</td><td>2015-12-01 00:00:00</td><td>2015-12-01 00:08:00</td><td>2</td><td>1.91</td><td>-73.99420929</td><td>40.74610138</td><td>1</td><td>N</td><td>-74.00424957</td><td>40.72180939</td><td>1</td><td>8.0</td><td>0.5</td><td>0.5</td><td>1.86</td><td>0.0</td><td>0.3</td><td>11.16</td></tr>\n",
       "<tr><td>2</td><td>2015-12-01 00:00:00</td><td>2015-12-01 00:17:00</td><td>1</td><td>4.5</td><td>-74.00675964</td><td>40.7189064</td><td>1</td><td>N</td><td>-73.98969269</td><td>40.77285385</td><td>1</td><td>16.5</td><td>0.5</td><td>0.5</td><td>3.56</td><td>0.0</td><td>0.3</td><td>21.36</td></tr>\n",
       "<tr><td>2</td><td>2015-12-01 00:00:00</td><td>2015-12-01 00:10:00</td><td>2</td><td>1.42</td><td>-73.99963379</td><td>40.73477173</td><td>1</td><td>N</td><td>-73.98906708</td><td>40.72312164</td><td>1</td><td>8.5</td><td>0.5</td><td>0.5</td><td>2.45</td><td>0.0</td><td>0.3</td><td>12.25</td></tr>\n",
       "</table>\n"
      ],
      "text/plain": [
       "+--------+--------------------+---------------------+---------------+-------------+----------------+---------------+----------+------------------+-----------------+----------------+------------+-----------+-----+-------+----------+------------+---------------------+------------+\n",
       "|VendorID|tpep_pickup_datetime|tpep_dropoff_datetime|passenger_count|trip_distance|pickup_longitude|pickup_latitude|RateCodeID|store_and_fwd_flag|dropoff_longitude|dropoff_latitude|payment_type|fare_amount|extra|mta_tax|tip_amount|tolls_amount|improvement_surcharge|total_amount|\n",
       "+--------+--------------------+---------------------+---------------+-------------+----------------+---------------+----------+------------------+-----------------+----------------+------------+-----------+-----+-------+----------+------------+---------------------+------------+\n",
       "|       2| 2015-12-01 00:00:00|  2015-12-01 00:00:00|              2|         2.69|    -73.97233582|    40.76237869|         1|                 N|     -73.99362946|     40.74599838|           1|       21.5|  0.0|    0.5|      3.34|         0.0|                  0.3|       25.64|\n",
       "|       2| 2015-12-01 00:00:00|  2015-12-01 00:00:00|              1|         2.62|    -73.96884918|    40.76453018|         1|                 N|     -73.97454834|     40.79164124|           1|       17.0|  0.0|    0.5|      3.56|         0.0|                  0.3|       21.36|\n",
       "|       2| 2015-12-01 00:00:00|  2015-12-01 00:08:00|              2|         1.91|    -73.99420929|    40.74610138|         1|                 N|     -74.00424957|     40.72180939|           1|        8.0|  0.5|    0.5|      1.86|         0.0|                  0.3|       11.16|\n",
       "|       2| 2015-12-01 00:00:00|  2015-12-01 00:17:00|              1|          4.5|    -74.00675964|     40.7189064|         1|                 N|     -73.98969269|     40.77285385|           1|       16.5|  0.5|    0.5|      3.56|         0.0|                  0.3|       21.36|\n",
       "|       2| 2015-12-01 00:00:00|  2015-12-01 00:10:00|              2|         1.42|    -73.99963379|    40.73477173|         1|                 N|     -73.98906708|     40.72312164|           1|        8.5|  0.5|    0.5|      2.45|         0.0|                  0.3|       12.25|\n",
       "+--------+--------------------+---------------------+---------------+-------------+----------------+---------------+----------+------------------+-----------------+----------------+------------+-----------+-----+-------+----------+------------+---------------------+------------+"
      ]
     },
     "execution_count": 14,
     "metadata": {},
     "output_type": "execute_result"
    }
   ],
   "source": [
    "sdf.select(sdf.columns) \\\n",
    "    .filter((col('VendorID') == 2) & (col('passenger_count') >= 1) & (col('trip_distance') >= 1)) \\\n",
    "    .limit(5)"
   ]
  },
  {
   "cell_type": "markdown",
   "id": "7a0b08f2",
   "metadata": {},
   "source": [
    "## Creating SQL views directly from files\n",
    "- If you don't have a Spark DataFrame, you can still read it in directly."
   ]
  },
  {
   "cell_type": "code",
   "execution_count": 15,
   "id": "48cf7e22",
   "metadata": {
    "ExecuteTime": {
     "end_time": "2021-06-07T04:11:05.753541Z",
     "start_time": "2021-06-07T04:11:05.466276Z"
    }
   },
   "outputs": [
    {
     "data": {
      "text/html": [
       "<table border='1'>\n",
       "<tr><th></th></tr>\n",
       "</table>\n"
      ],
      "text/plain": [
       "++\n",
       "||\n",
       "++\n",
       "++"
      ]
     },
     "execution_count": 15,
     "metadata": {},
     "output_type": "execute_result"
    }
   ],
   "source": [
    "import os\n",
    "\n",
    "sql_query = f\"\"\"\n",
    "CREATE OR REPLACE TEMPORARY VIEW aggregation_parquet\n",
    "USING parquet\n",
    "OPTIONS (path \n",
    "    \"{'/'.join(os.getcwd().split('/')[:-1])}/data/aggregated_results.parquet/\")\n",
    "\"\"\"\n",
    "\n",
    "spark.sql(sql_query)"
   ]
  },
  {
   "cell_type": "code",
   "execution_count": 16,
   "id": "20e1b0ff",
   "metadata": {
    "ExecuteTime": {
     "end_time": "2021-06-07T04:11:06.198523Z",
     "start_time": "2021-06-07T04:11:05.754834Z"
    }
   },
   "outputs": [
    {
     "data": {
      "text/html": [
       "<table border='1'>\n",
       "<tr><th>passenger_count</th><th>avg_trip_amount</th></tr>\n",
       "<tr><td>0</td><td>16.05009840158623</td></tr>\n",
       "<tr><td>1</td><td>15.90999770852072</td></tr>\n",
       "<tr><td>2</td><td>16.84797666441966</td></tr>\n",
       "<tr><td>3</td><td>16.403699092777416</td></tr>\n",
       "<tr><td>4</td><td>16.577589926570035</td></tr>\n",
       "<tr><td>5</td><td>16.25151447266953</td></tr>\n",
       "<tr><td>6</td><td>15.880795405728485</td></tr>\n",
       "<tr><td>7</td><td>47.33983263598327</td></tr>\n",
       "<tr><td>8</td><td>55.25762430939226</td></tr>\n",
       "<tr><td>9</td><td>59.44349112426035</td></tr>\n",
       "</table>\n"
      ],
      "text/plain": [
       "+---------------+------------------+\n",
       "|passenger_count|   avg_trip_amount|\n",
       "+---------------+------------------+\n",
       "|              0| 16.05009840158623|\n",
       "|              1| 15.90999770852072|\n",
       "|              2| 16.84797666441966|\n",
       "|              3|16.403699092777416|\n",
       "|              4|16.577589926570035|\n",
       "|              5| 16.25151447266953|\n",
       "|              6|15.880795405728485|\n",
       "|              7| 47.33983263598327|\n",
       "|              8| 55.25762430939226|\n",
       "|              9| 59.44349112426035|\n",
       "+---------------+------------------+"
      ]
     },
     "execution_count": 16,
     "metadata": {},
     "output_type": "execute_result"
    }
   ],
   "source": [
    "spark.sql(\"SELECT * FROM aggregation_parquet\")"
   ]
  }
 ],
 "metadata": {
  "kernelspec": {
   "display_name": "Python 3",
   "language": "python",
   "name": "python3"
  },
  "language_info": {
   "codemirror_mode": {
    "name": "ipython",
    "version": 3
   },
   "file_extension": ".py",
   "mimetype": "text/x-python",
   "name": "python",
   "nbconvert_exporter": "python",
   "pygments_lexer": "ipython3",
   "version": "3.8.5"
  },
  "varInspector": {
   "cols": {
    "lenName": 16,
    "lenType": 16,
    "lenVar": 40
   },
   "kernels_config": {
    "python": {
     "delete_cmd_postfix": "",
     "delete_cmd_prefix": "del ",
     "library": "var_list.py",
     "varRefreshCmd": "print(var_dic_list())"
    },
    "r": {
     "delete_cmd_postfix": ") ",
     "delete_cmd_prefix": "rm(",
     "library": "var_list.r",
     "varRefreshCmd": "cat(var_dic_list()) "
    }
   },
   "types_to_exclude": [
    "module",
    "function",
    "builtin_function_or_method",
    "instance",
    "_Feature"
   ],
   "window_display": false
  }
 },
 "nbformat": 4,
 "nbformat_minor": 5
}
