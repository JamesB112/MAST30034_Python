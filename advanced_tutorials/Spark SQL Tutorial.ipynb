{
 "cells": [
  {
   "cell_type": "markdown",
   "id": "988f37e5",
   "metadata": {},
   "source": [
    "# Spark SQL Tutorial\n",
    "- Author: Akira Takihara Wang (https://github.com/akiratwang)\n",
    "- Tutorial Up-to-Date as of: April 2021  \n",
    "- Usage: For MAST30034 students only  \n"
   ]
  },
  {
   "cell_type": "code",
   "execution_count": 1,
   "id": "b8cb0abc",
   "metadata": {
    "ExecuteTime": {
     "end_time": "2021-07-04T02:55:27.177141Z",
     "start_time": "2021-07-04T02:55:24.102415Z"
    }
   },
   "outputs": [],
   "source": [
    "from pyspark import SparkContext\n",
    "from pyspark.sql import SparkSession\n",
    "\n",
    "# Start the spark context\n",
    "sc = SparkContext.getOrCreate(conf=swan_spark_conf)\n",
    "\n",
    "# create a spark session (which will run spark jobs)\n",
    "spark = SparkSession.builder.getOrCreate()\n",
    "\n",
    "# apply settings to session\n",
    "spark.conf.set('spark.sql.repl.eagerEval.enabled', True)\n",
    "spark.conf.set('spark.sql.execution.arrow.pyspark.enabled', True)"
   ]
  },
  {
   "cell_type": "markdown",
   "id": "86a7901b",
   "metadata": {},
   "source": [
    "Previously, we saw how to create a `schema` using PySpark code. If you are more familiar with SQL, then you may want to use a Data Definition Language (DDL) string to create a schema. \n",
    "\n",
    "Syntax:\n",
    "```python\n",
    "ddl = \"\"\"\n",
    "`COLUMN 1` DATATYPE1, `COLUMN 2` DATATYPE2, ...\n",
    "\"\"\"\n",
    "```\n",
    "\n",
    "Although it may make sense to pass through the datetimes as type `TIMESTAMP`, the format may be inconsistent. As an example, we will assume the worst case and \"manually\" fix it using a function for your benefit."
   ]
  },
  {
   "cell_type": "code",
   "execution_count": 11,
   "id": "30c1f593",
   "metadata": {
    "ExecuteTime": {
     "end_time": "2021-07-04T02:56:11.106689Z",
     "start_time": "2021-07-04T02:56:11.104749Z"
    }
   },
   "outputs": [],
   "source": [
    "# create a DDL\n",
    "schema = \"\"\"\n",
    "`VendorID` INT, `tpep_pickup_datetime` STRING, `tpep_dropoff_datetime` STRING,\n",
    "`passenger_count` INT, `trip_distance` DOUBLE, `pickup_longitude` DOUBLE, `pickup_latitude` DOUBLE,\n",
    "`RateCodeID` INT, `store_and_fwd_flag` STRING, `dropoff_longitude` DOUBLE, `dropoff_latitude` DOUBLE,\n",
    "`payment_type` INT, `fare_amount` DOUBLE, `extra` DOUBLE, `mta_tax` DOUBLE, `tip_amount` DOUBLE,\n",
    "`tolls_amount` DOUBLE, `improvement_surcharge` DOUBLE, `total_amount` DOUBLE\n",
    "\"\"\""
   ]
  },
  {
   "cell_type": "markdown",
   "id": "a7fa2391",
   "metadata": {},
   "source": [
    "Like PySpark, you can simply pass it through the `schema` parameter."
   ]
  },
  {
   "cell_type": "code",
   "execution_count": 12,
   "id": "d0ab6b21",
   "metadata": {
    "ExecuteTime": {
     "end_time": "2021-07-04T02:56:11.565803Z",
     "start_time": "2021-07-04T02:56:11.549782Z"
    }
   },
   "outputs": [
    {
     "name": "stdout",
     "output_type": "stream",
     "text": [
      "root\n",
      " |-- VendorID: integer (nullable = true)\n",
      " |-- tpep_pickup_datetime: string (nullable = true)\n",
      " |-- tpep_dropoff_datetime: string (nullable = true)\n",
      " |-- passenger_count: integer (nullable = true)\n",
      " |-- trip_distance: double (nullable = true)\n",
      " |-- pickup_longitude: double (nullable = true)\n",
      " |-- pickup_latitude: double (nullable = true)\n",
      " |-- RateCodeID: integer (nullable = true)\n",
      " |-- store_and_fwd_flag: string (nullable = true)\n",
      " |-- dropoff_longitude: double (nullable = true)\n",
      " |-- dropoff_latitude: double (nullable = true)\n",
      " |-- payment_type: integer (nullable = true)\n",
      " |-- fare_amount: double (nullable = true)\n",
      " |-- extra: double (nullable = true)\n",
      " |-- mta_tax: double (nullable = true)\n",
      " |-- tip_amount: double (nullable = true)\n",
      " |-- tolls_amount: double (nullable = true)\n",
      " |-- improvement_surcharge: double (nullable = true)\n",
      " |-- total_amount: double (nullable = true)\n",
      "\n"
     ]
    }
   ],
   "source": [
    "sdf = spark.read.csv('../data/sample.csv', header=True, schema=schema)\n",
    "sdf.printSchema()"
   ]
  },
  {
   "cell_type": "markdown",
   "id": "53d7ea7e",
   "metadata": {},
   "source": [
    "- As you can see, this achieves the same result as using `StructType()`, but may be easier or more difficult depending on the number of columns you have. \n",
    "- My personal preference would be using `StructType()` for this dataset as you can use generator functions to simplify the allocation of dtypes.\n",
    "- However, depending on your role or project scope, you may already have an existing DDL you can use!"
   ]
  },
  {
   "cell_type": "code",
   "execution_count": 13,
   "id": "6754d319",
   "metadata": {
    "ExecuteTime": {
     "end_time": "2021-07-04T02:56:13.656078Z",
     "start_time": "2021-07-04T02:56:13.433186Z"
    }
   },
   "outputs": [
    {
     "data": {
      "text/html": [
       "<table border='1'>\n",
       "<tr><th>VendorID</th><th>tpep_pickup_datetime</th><th>tpep_dropoff_datetime</th><th>passenger_count</th><th>trip_distance</th><th>pickup_longitude</th><th>pickup_latitude</th><th>RateCodeID</th><th>store_and_fwd_flag</th><th>dropoff_longitude</th><th>dropoff_latitude</th><th>payment_type</th><th>fare_amount</th><th>extra</th><th>mta_tax</th><th>tip_amount</th><th>tolls_amount</th><th>improvement_surcharge</th><th>total_amount</th></tr>\n",
       "<tr><td>2</td><td>1/12/15 0:00</td><td>1/12/15 0:05</td><td>5</td><td>0.96</td><td>-73.97994232</td><td>40.76538086</td><td>1</td><td>N</td><td>-73.96630859</td><td>40.76308823</td><td>1</td><td>5.5</td><td>0.5</td><td>0.5</td><td>1.0</td><td>0.0</td><td>0.3</td><td>7.8</td></tr>\n",
       "<tr><td>2</td><td>1/12/15 0:00</td><td>1/12/15 0:00</td><td>2</td><td>2.69</td><td>-73.97233582</td><td>40.76237869</td><td>1</td><td>N</td><td>-73.99362946</td><td>40.74599838</td><td>1</td><td>21.5</td><td>0.0</td><td>0.5</td><td>3.34</td><td>0.0</td><td>0.3</td><td>25.64</td></tr>\n",
       "<tr><td>2</td><td>1/12/15 0:00</td><td>1/12/15 0:00</td><td>1</td><td>2.62</td><td>-73.96884918</td><td>40.76453018</td><td>1</td><td>N</td><td>-73.97454834</td><td>40.79164124</td><td>1</td><td>17.0</td><td>0.0</td><td>0.5</td><td>3.56</td><td>0.0</td><td>0.3</td><td>21.36</td></tr>\n",
       "<tr><td>1</td><td>1/12/15 0:00</td><td>1/12/15 0:05</td><td>1</td><td>1.2</td><td>-73.99393463</td><td>40.74168396</td><td>1</td><td>N</td><td>-73.99766541</td><td>40.74746704</td><td>1</td><td>6.5</td><td>0.5</td><td>0.5</td><td>0.2</td><td>0.0</td><td>0.3</td><td>8.0</td></tr>\n",
       "<tr><td>1</td><td>1/12/15 0:00</td><td>1/12/15 0:09</td><td>2</td><td>3.0</td><td>-73.98892212</td><td>40.72698975</td><td>1</td><td>N</td><td>-73.97559357</td><td>40.6968689</td><td>2</td><td>11.0</td><td>0.5</td><td>0.5</td><td>0.0</td><td>0.0</td><td>0.3</td><td>12.3</td></tr>\n",
       "</table>\n"
      ],
      "text/plain": [
       "+--------+--------------------+---------------------+---------------+-------------+----------------+---------------+----------+------------------+-----------------+----------------+------------+-----------+-----+-------+----------+------------+---------------------+------------+\n",
       "|VendorID|tpep_pickup_datetime|tpep_dropoff_datetime|passenger_count|trip_distance|pickup_longitude|pickup_latitude|RateCodeID|store_and_fwd_flag|dropoff_longitude|dropoff_latitude|payment_type|fare_amount|extra|mta_tax|tip_amount|tolls_amount|improvement_surcharge|total_amount|\n",
       "+--------+--------------------+---------------------+---------------+-------------+----------------+---------------+----------+------------------+-----------------+----------------+------------+-----------+-----+-------+----------+------------+---------------------+------------+\n",
       "|       2|        1/12/15 0:00|         1/12/15 0:05|              5|         0.96|    -73.97994232|    40.76538086|         1|                 N|     -73.96630859|     40.76308823|           1|        5.5|  0.5|    0.5|       1.0|         0.0|                  0.3|         7.8|\n",
       "|       2|        1/12/15 0:00|         1/12/15 0:00|              2|         2.69|    -73.97233582|    40.76237869|         1|                 N|     -73.99362946|     40.74599838|           1|       21.5|  0.0|    0.5|      3.34|         0.0|                  0.3|       25.64|\n",
       "|       2|        1/12/15 0:00|         1/12/15 0:00|              1|         2.62|    -73.96884918|    40.76453018|         1|                 N|     -73.97454834|     40.79164124|           1|       17.0|  0.0|    0.5|      3.56|         0.0|                  0.3|       21.36|\n",
       "|       1|        1/12/15 0:00|         1/12/15 0:05|              1|          1.2|    -73.99393463|    40.74168396|         1|                 N|     -73.99766541|     40.74746704|           1|        6.5|  0.5|    0.5|       0.2|         0.0|                  0.3|         8.0|\n",
       "|       1|        1/12/15 0:00|         1/12/15 0:09|              2|          3.0|    -73.98892212|    40.72698975|         1|                 N|     -73.97559357|      40.6968689|           2|       11.0|  0.5|    0.5|       0.0|         0.0|                  0.3|        12.3|\n",
       "+--------+--------------------+---------------------+---------------+-------------+----------------+---------------+----------+------------------+-----------------+----------------+------------+-----------+-----+-------+----------+------------+---------------------+------------+"
      ]
     },
     "execution_count": 13,
     "metadata": {},
     "output_type": "execute_result"
    }
   ],
   "source": [
    "sdf.limit(5)"
   ]
  },
  {
   "cell_type": "markdown",
   "id": "78fa9980",
   "metadata": {},
   "source": [
    "Now let's get our datetimes into `TIMESTAMP` formats (since our current dataset does not have the correct format)."
   ]
  },
  {
   "cell_type": "code",
   "execution_count": 5,
   "id": "f6cb9a82",
   "metadata": {
    "ExecuteTime": {
     "end_time": "2021-07-04T02:55:36.761319Z",
     "start_time": "2021-07-04T02:55:36.754876Z"
    }
   },
   "outputs": [],
   "source": [
    "import pyspark.sql.functions as F\n",
    "\n",
    "from pyspark.sql.functions import col\n",
    "from pyspark.sql.types import *"
   ]
  },
  {
   "cell_type": "code",
   "execution_count": 6,
   "id": "d070f925",
   "metadata": {
    "ExecuteTime": {
     "end_time": "2021-07-04T02:55:43.564829Z",
     "start_time": "2021-07-04T02:55:43.544733Z"
    }
   },
   "outputs": [],
   "source": [
    "# create UDF\n",
    "from datetime import datetime\n",
    "\n",
    "@F.udf(\"timestamp\")\n",
    "def format_dtime(dtime):\n",
    "    date, time = dtime.split()\n",
    "    # map the iterable to integer\n",
    "    d, m, y = map(int, date.split('/'))\n",
    "    # year is abbreviated so we need to add 20 in front\n",
    "    y = int(f\"20{y}\")\n",
    "    h, mins = map(int, time.split(':'))\n",
    "    return datetime(y, m, d, h, mins)"
   ]
  },
  {
   "cell_type": "code",
   "execution_count": 7,
   "id": "b23558b7",
   "metadata": {
    "ExecuteTime": {
     "end_time": "2021-07-04T02:55:49.349148Z",
     "start_time": "2021-07-04T02:55:47.978037Z"
    }
   },
   "outputs": [
    {
     "data": {
      "text/html": [
       "<table border='1'>\n",
       "<tr><th>VendorID</th><th>tpep_pickup_datetime</th><th>tpep_dropoff_datetime</th><th>passenger_count</th><th>trip_distance</th><th>pickup_longitude</th><th>pickup_latitude</th><th>RateCodeID</th><th>store_and_fwd_flag</th><th>dropoff_longitude</th><th>dropoff_latitude</th><th>payment_type</th><th>fare_amount</th><th>extra</th><th>mta_tax</th><th>tip_amount</th><th>tolls_amount</th><th>improvement_surcharge</th><th>total_amount</th></tr>\n",
       "<tr><td>2</td><td>2015-12-01 00:00:00</td><td>2015-12-01 00:05:00</td><td>5</td><td>0.96</td><td>-73.97994232</td><td>40.76538086</td><td>1</td><td>N</td><td>-73.96630859</td><td>40.76308823</td><td>1</td><td>5.5</td><td>0.5</td><td>0.5</td><td>1.0</td><td>0.0</td><td>0.3</td><td>7.8</td></tr>\n",
       "<tr><td>2</td><td>2015-12-01 00:00:00</td><td>2015-12-01 00:00:00</td><td>2</td><td>2.69</td><td>-73.97233582</td><td>40.76237869</td><td>1</td><td>N</td><td>-73.99362946</td><td>40.74599838</td><td>1</td><td>21.5</td><td>0.0</td><td>0.5</td><td>3.34</td><td>0.0</td><td>0.3</td><td>25.64</td></tr>\n",
       "<tr><td>2</td><td>2015-12-01 00:00:00</td><td>2015-12-01 00:00:00</td><td>1</td><td>2.62</td><td>-73.96884918</td><td>40.76453018</td><td>1</td><td>N</td><td>-73.97454834</td><td>40.79164124</td><td>1</td><td>17.0</td><td>0.0</td><td>0.5</td><td>3.56</td><td>0.0</td><td>0.3</td><td>21.36</td></tr>\n",
       "<tr><td>1</td><td>2015-12-01 00:00:00</td><td>2015-12-01 00:05:00</td><td>1</td><td>1.2</td><td>-73.99393463</td><td>40.74168396</td><td>1</td><td>N</td><td>-73.99766541</td><td>40.74746704</td><td>1</td><td>6.5</td><td>0.5</td><td>0.5</td><td>0.2</td><td>0.0</td><td>0.3</td><td>8.0</td></tr>\n",
       "<tr><td>1</td><td>2015-12-01 00:00:00</td><td>2015-12-01 00:09:00</td><td>2</td><td>3.0</td><td>-73.98892212</td><td>40.72698975</td><td>1</td><td>N</td><td>-73.97559357</td><td>40.6968689</td><td>2</td><td>11.0</td><td>0.5</td><td>0.5</td><td>0.0</td><td>0.0</td><td>0.3</td><td>12.3</td></tr>\n",
       "</table>\n"
      ],
      "text/plain": [
       "+--------+--------------------+---------------------+---------------+-------------+----------------+---------------+----------+------------------+-----------------+----------------+------------+-----------+-----+-------+----------+------------+---------------------+------------+\n",
       "|VendorID|tpep_pickup_datetime|tpep_dropoff_datetime|passenger_count|trip_distance|pickup_longitude|pickup_latitude|RateCodeID|store_and_fwd_flag|dropoff_longitude|dropoff_latitude|payment_type|fare_amount|extra|mta_tax|tip_amount|tolls_amount|improvement_surcharge|total_amount|\n",
       "+--------+--------------------+---------------------+---------------+-------------+----------------+---------------+----------+------------------+-----------------+----------------+------------+-----------+-----+-------+----------+------------+---------------------+------------+\n",
       "|       2| 2015-12-01 00:00:00|  2015-12-01 00:05:00|              5|         0.96|    -73.97994232|    40.76538086|         1|                 N|     -73.96630859|     40.76308823|           1|        5.5|  0.5|    0.5|       1.0|         0.0|                  0.3|         7.8|\n",
       "|       2| 2015-12-01 00:00:00|  2015-12-01 00:00:00|              2|         2.69|    -73.97233582|    40.76237869|         1|                 N|     -73.99362946|     40.74599838|           1|       21.5|  0.0|    0.5|      3.34|         0.0|                  0.3|       25.64|\n",
       "|       2| 2015-12-01 00:00:00|  2015-12-01 00:00:00|              1|         2.62|    -73.96884918|    40.76453018|         1|                 N|     -73.97454834|     40.79164124|           1|       17.0|  0.0|    0.5|      3.56|         0.0|                  0.3|       21.36|\n",
       "|       1| 2015-12-01 00:00:00|  2015-12-01 00:05:00|              1|          1.2|    -73.99393463|    40.74168396|         1|                 N|     -73.99766541|     40.74746704|           1|        6.5|  0.5|    0.5|       0.2|         0.0|                  0.3|         8.0|\n",
       "|       1| 2015-12-01 00:00:00|  2015-12-01 00:09:00|              2|          3.0|    -73.98892212|    40.72698975|         1|                 N|     -73.97559357|      40.6968689|           2|       11.0|  0.5|    0.5|       0.0|         0.0|                  0.3|        12.3|\n",
       "+--------+--------------------+---------------------+---------------+-------------+----------------+---------------+----------+------------------+-----------------+----------------+------------+-----------+-----+-------+----------+------------+---------------------+------------+"
      ]
     },
     "execution_count": 7,
     "metadata": {},
     "output_type": "execute_result"
    }
   ],
   "source": [
    "sdf.withColumn(\"tpep_pickup_datetime\", format_dtime('tpep_pickup_datetime')) \\\n",
    "    .withColumn(\"tpep_dropoff_datetime\", format_dtime('tpep_dropoff_datetime')) \\\n",
    "    .limit(5)"
   ]
  },
  {
   "cell_type": "markdown",
   "id": "889c4765",
   "metadata": {},
   "source": [
    "- Conversion looks good to me, so let's keep it.\n",
    "- Remember, Spark is immutable, so we will need to overwrite the `sdf` variable."
   ]
  },
  {
   "cell_type": "code",
   "execution_count": 14,
   "id": "ce854550",
   "metadata": {
    "ExecuteTime": {
     "end_time": "2021-07-04T02:57:37.132596Z",
     "start_time": "2021-07-04T02:57:37.113212Z"
    }
   },
   "outputs": [],
   "source": [
    "sdf = sdf.withColumn(\"tpep_pickup_datetime\", format_dtime('tpep_pickup_datetime')) \\\n",
    "    .withColumn(\"tpep_dropoff_datetime\", format_dtime('tpep_dropoff_datetime'))"
   ]
  },
  {
   "cell_type": "code",
   "execution_count": 15,
   "id": "ffd2d96d",
   "metadata": {
    "ExecuteTime": {
     "end_time": "2021-07-04T02:57:38.138098Z",
     "start_time": "2021-07-04T02:57:37.294058Z"
    }
   },
   "outputs": [
    {
     "data": {
      "text/html": [
       "<table border='1'>\n",
       "<tr><th>VendorID</th><th>tpep_pickup_datetime</th><th>tpep_dropoff_datetime</th><th>passenger_count</th><th>trip_distance</th><th>pickup_longitude</th><th>pickup_latitude</th><th>RateCodeID</th><th>store_and_fwd_flag</th><th>dropoff_longitude</th><th>dropoff_latitude</th><th>payment_type</th><th>fare_amount</th><th>extra</th><th>mta_tax</th><th>tip_amount</th><th>tolls_amount</th><th>improvement_surcharge</th><th>total_amount</th></tr>\n",
       "<tr><td>2</td><td>2015-12-01 00:00:00</td><td>2015-12-01 00:05:00</td><td>5</td><td>0.96</td><td>-73.97994232</td><td>40.76538086</td><td>1</td><td>N</td><td>-73.96630859</td><td>40.76308823</td><td>1</td><td>5.5</td><td>0.5</td><td>0.5</td><td>1.0</td><td>0.0</td><td>0.3</td><td>7.8</td></tr>\n",
       "<tr><td>2</td><td>2015-12-01 00:00:00</td><td>2015-12-01 00:00:00</td><td>2</td><td>2.69</td><td>-73.97233582</td><td>40.76237869</td><td>1</td><td>N</td><td>-73.99362946</td><td>40.74599838</td><td>1</td><td>21.5</td><td>0.0</td><td>0.5</td><td>3.34</td><td>0.0</td><td>0.3</td><td>25.64</td></tr>\n",
       "<tr><td>2</td><td>2015-12-01 00:00:00</td><td>2015-12-01 00:00:00</td><td>1</td><td>2.62</td><td>-73.96884918</td><td>40.76453018</td><td>1</td><td>N</td><td>-73.97454834</td><td>40.79164124</td><td>1</td><td>17.0</td><td>0.0</td><td>0.5</td><td>3.56</td><td>0.0</td><td>0.3</td><td>21.36</td></tr>\n",
       "<tr><td>1</td><td>2015-12-01 00:00:00</td><td>2015-12-01 00:05:00</td><td>1</td><td>1.2</td><td>-73.99393463</td><td>40.74168396</td><td>1</td><td>N</td><td>-73.99766541</td><td>40.74746704</td><td>1</td><td>6.5</td><td>0.5</td><td>0.5</td><td>0.2</td><td>0.0</td><td>0.3</td><td>8.0</td></tr>\n",
       "<tr><td>1</td><td>2015-12-01 00:00:00</td><td>2015-12-01 00:09:00</td><td>2</td><td>3.0</td><td>-73.98892212</td><td>40.72698975</td><td>1</td><td>N</td><td>-73.97559357</td><td>40.6968689</td><td>2</td><td>11.0</td><td>0.5</td><td>0.5</td><td>0.0</td><td>0.0</td><td>0.3</td><td>12.3</td></tr>\n",
       "</table>\n"
      ],
      "text/plain": [
       "+--------+--------------------+---------------------+---------------+-------------+----------------+---------------+----------+------------------+-----------------+----------------+------------+-----------+-----+-------+----------+------------+---------------------+------------+\n",
       "|VendorID|tpep_pickup_datetime|tpep_dropoff_datetime|passenger_count|trip_distance|pickup_longitude|pickup_latitude|RateCodeID|store_and_fwd_flag|dropoff_longitude|dropoff_latitude|payment_type|fare_amount|extra|mta_tax|tip_amount|tolls_amount|improvement_surcharge|total_amount|\n",
       "+--------+--------------------+---------------------+---------------+-------------+----------------+---------------+----------+------------------+-----------------+----------------+------------+-----------+-----+-------+----------+------------+---------------------+------------+\n",
       "|       2| 2015-12-01 00:00:00|  2015-12-01 00:05:00|              5|         0.96|    -73.97994232|    40.76538086|         1|                 N|     -73.96630859|     40.76308823|           1|        5.5|  0.5|    0.5|       1.0|         0.0|                  0.3|         7.8|\n",
       "|       2| 2015-12-01 00:00:00|  2015-12-01 00:00:00|              2|         2.69|    -73.97233582|    40.76237869|         1|                 N|     -73.99362946|     40.74599838|           1|       21.5|  0.0|    0.5|      3.34|         0.0|                  0.3|       25.64|\n",
       "|       2| 2015-12-01 00:00:00|  2015-12-01 00:00:00|              1|         2.62|    -73.96884918|    40.76453018|         1|                 N|     -73.97454834|     40.79164124|           1|       17.0|  0.0|    0.5|      3.56|         0.0|                  0.3|       21.36|\n",
       "|       1| 2015-12-01 00:00:00|  2015-12-01 00:05:00|              1|          1.2|    -73.99393463|    40.74168396|         1|                 N|     -73.99766541|     40.74746704|           1|        6.5|  0.5|    0.5|       0.2|         0.0|                  0.3|         8.0|\n",
       "|       1| 2015-12-01 00:00:00|  2015-12-01 00:09:00|              2|          3.0|    -73.98892212|    40.72698975|         1|                 N|     -73.97559357|      40.6968689|           2|       11.0|  0.5|    0.5|       0.0|         0.0|                  0.3|        12.3|\n",
       "+--------+--------------------+---------------------+---------------+-------------+----------------+---------------+----------+------------------+-----------------+----------------+------------+-----------+-----+-------+----------+------------+---------------------+------------+"
      ]
     },
     "execution_count": 15,
     "metadata": {},
     "output_type": "execute_result"
    }
   ],
   "source": [
    "sdf.limit(5)"
   ]
  },
  {
   "cell_type": "markdown",
   "id": "e6510b44",
   "metadata": {},
   "source": [
    "## Creating a SQL Table with an existing Spark DataFrame\n",
    "The easiest method is to use `sdf.createOrReplaceTempView(TABLE_NAME)`\n"
   ]
  },
  {
   "cell_type": "code",
   "execution_count": 16,
   "id": "4deaeaf6",
   "metadata": {
    "ExecuteTime": {
     "end_time": "2021-07-04T02:57:47.665318Z",
     "start_time": "2021-07-04T02:57:47.637690Z"
    }
   },
   "outputs": [],
   "source": [
    "sdf.createOrReplaceTempView(\"taxi_data\")"
   ]
  },
  {
   "cell_type": "markdown",
   "id": "cb0dad22",
   "metadata": {},
   "source": [
    "Select all columns from our table, where:\n",
    "- the Vendor is `VeriFone Inc.`;\n",
    "- we have at least 1 passenger;\n",
    "- and a trip distance greater than 1 mile."
   ]
  },
  {
   "cell_type": "code",
   "execution_count": 18,
   "id": "02bbd999",
   "metadata": {
    "ExecuteTime": {
     "end_time": "2021-07-04T02:58:04.027320Z",
     "start_time": "2021-07-04T02:58:03.246894Z"
    },
    "scrolled": true
   },
   "outputs": [
    {
     "data": {
      "text/html": [
       "<table border='1'>\n",
       "<tr><th>VendorID</th><th>tpep_pickup_datetime</th><th>tpep_dropoff_datetime</th><th>passenger_count</th><th>trip_distance</th><th>pickup_longitude</th><th>pickup_latitude</th><th>RateCodeID</th><th>store_and_fwd_flag</th><th>dropoff_longitude</th><th>dropoff_latitude</th><th>payment_type</th><th>fare_amount</th><th>extra</th><th>mta_tax</th><th>tip_amount</th><th>tolls_amount</th><th>improvement_surcharge</th><th>total_amount</th></tr>\n",
       "<tr><td>2</td><td>2015-12-01 00:00:00</td><td>2015-12-01 00:00:00</td><td>2</td><td>2.69</td><td>-73.97233582</td><td>40.76237869</td><td>1</td><td>N</td><td>-73.99362946</td><td>40.74599838</td><td>1</td><td>21.5</td><td>0.0</td><td>0.5</td><td>3.34</td><td>0.0</td><td>0.3</td><td>25.64</td></tr>\n",
       "<tr><td>2</td><td>2015-12-01 00:00:00</td><td>2015-12-01 00:00:00</td><td>1</td><td>2.62</td><td>-73.96884918</td><td>40.76453018</td><td>1</td><td>N</td><td>-73.97454834</td><td>40.79164124</td><td>1</td><td>17.0</td><td>0.0</td><td>0.5</td><td>3.56</td><td>0.0</td><td>0.3</td><td>21.36</td></tr>\n",
       "<tr><td>2</td><td>2015-12-01 00:00:00</td><td>2015-12-01 00:08:00</td><td>2</td><td>1.91</td><td>-73.99420929</td><td>40.74610138</td><td>1</td><td>N</td><td>-74.00424957</td><td>40.72180939</td><td>1</td><td>8.0</td><td>0.5</td><td>0.5</td><td>1.86</td><td>0.0</td><td>0.3</td><td>11.16</td></tr>\n",
       "<tr><td>2</td><td>2015-12-01 00:00:00</td><td>2015-12-01 00:17:00</td><td>1</td><td>4.5</td><td>-74.00675964</td><td>40.7189064</td><td>1</td><td>N</td><td>-73.98969269</td><td>40.77285385</td><td>1</td><td>16.5</td><td>0.5</td><td>0.5</td><td>3.56</td><td>0.0</td><td>0.3</td><td>21.36</td></tr>\n",
       "<tr><td>2</td><td>2015-12-01 00:00:00</td><td>2015-12-01 00:10:00</td><td>2</td><td>1.42</td><td>-73.99963379</td><td>40.73477173</td><td>1</td><td>N</td><td>-73.98906708</td><td>40.72312164</td><td>1</td><td>8.5</td><td>0.5</td><td>0.5</td><td>2.45</td><td>0.0</td><td>0.3</td><td>12.25</td></tr>\n",
       "</table>\n"
      ],
      "text/plain": [
       "+--------+--------------------+---------------------+---------------+-------------+----------------+---------------+----------+------------------+-----------------+----------------+------------+-----------+-----+-------+----------+------------+---------------------+------------+\n",
       "|VendorID|tpep_pickup_datetime|tpep_dropoff_datetime|passenger_count|trip_distance|pickup_longitude|pickup_latitude|RateCodeID|store_and_fwd_flag|dropoff_longitude|dropoff_latitude|payment_type|fare_amount|extra|mta_tax|tip_amount|tolls_amount|improvement_surcharge|total_amount|\n",
       "+--------+--------------------+---------------------+---------------+-------------+----------------+---------------+----------+------------------+-----------------+----------------+------------+-----------+-----+-------+----------+------------+---------------------+------------+\n",
       "|       2| 2015-12-01 00:00:00|  2015-12-01 00:00:00|              2|         2.69|    -73.97233582|    40.76237869|         1|                 N|     -73.99362946|     40.74599838|           1|       21.5|  0.0|    0.5|      3.34|         0.0|                  0.3|       25.64|\n",
       "|       2| 2015-12-01 00:00:00|  2015-12-01 00:00:00|              1|         2.62|    -73.96884918|    40.76453018|         1|                 N|     -73.97454834|     40.79164124|           1|       17.0|  0.0|    0.5|      3.56|         0.0|                  0.3|       21.36|\n",
       "|       2| 2015-12-01 00:00:00|  2015-12-01 00:08:00|              2|         1.91|    -73.99420929|    40.74610138|         1|                 N|     -74.00424957|     40.72180939|           1|        8.0|  0.5|    0.5|      1.86|         0.0|                  0.3|       11.16|\n",
       "|       2| 2015-12-01 00:00:00|  2015-12-01 00:17:00|              1|          4.5|    -74.00675964|     40.7189064|         1|                 N|     -73.98969269|     40.77285385|           1|       16.5|  0.5|    0.5|      3.56|         0.0|                  0.3|       21.36|\n",
       "|       2| 2015-12-01 00:00:00|  2015-12-01 00:10:00|              2|         1.42|    -73.99963379|    40.73477173|         1|                 N|     -73.98906708|     40.72312164|           1|        8.5|  0.5|    0.5|      2.45|         0.0|                  0.3|       12.25|\n",
       "+--------+--------------------+---------------------+---------------+-------------+----------------+---------------+----------+------------------+-----------------+----------------+------------+-----------+-----+-------+----------+------------+---------------------+------------+"
      ]
     },
     "execution_count": 18,
     "metadata": {},
     "output_type": "execute_result"
    }
   ],
   "source": [
    "sql_query = \"\"\"\n",
    "SELECT * \n",
    "FROM taxi_data\n",
    "WHERE VendorID = 2\n",
    "    AND passenger_count >= 1\n",
    "    AND trip_distance >= 1\n",
    "LIMIT 5;\n",
    "\"\"\"\n",
    "\n",
    "spark.sql(sql_query)"
   ]
  },
  {
   "cell_type": "markdown",
   "id": "87ef7fde",
   "metadata": {},
   "source": [
    "Below is the alternative query using PySpark. As you can see, it becomes _less interpretable_. Using Spark SQL ensures that the query is consistent and can also be run directly on the database if need be, allowing for a much more consistent way of testing queries."
   ]
  },
  {
   "cell_type": "code",
   "execution_count": 22,
   "id": "7dedbd63",
   "metadata": {
    "ExecuteTime": {
     "end_time": "2021-07-04T03:00:10.885647Z",
     "start_time": "2021-07-04T03:00:10.104033Z"
    }
   },
   "outputs": [
    {
     "data": {
      "text/html": [
       "<table border='1'>\n",
       "<tr><th>VendorID</th><th>tpep_pickup_datetime</th><th>tpep_dropoff_datetime</th><th>passenger_count</th><th>trip_distance</th><th>pickup_longitude</th><th>pickup_latitude</th><th>RateCodeID</th><th>store_and_fwd_flag</th><th>dropoff_longitude</th><th>dropoff_latitude</th><th>payment_type</th><th>fare_amount</th><th>extra</th><th>mta_tax</th><th>tip_amount</th><th>tolls_amount</th><th>improvement_surcharge</th><th>total_amount</th></tr>\n",
       "<tr><td>2</td><td>2015-12-01 00:00:00</td><td>2015-12-01 00:00:00</td><td>2</td><td>2.69</td><td>-73.97233582</td><td>40.76237869</td><td>1</td><td>N</td><td>-73.99362946</td><td>40.74599838</td><td>1</td><td>21.5</td><td>0.0</td><td>0.5</td><td>3.34</td><td>0.0</td><td>0.3</td><td>25.64</td></tr>\n",
       "<tr><td>2</td><td>2015-12-01 00:00:00</td><td>2015-12-01 00:00:00</td><td>1</td><td>2.62</td><td>-73.96884918</td><td>40.76453018</td><td>1</td><td>N</td><td>-73.97454834</td><td>40.79164124</td><td>1</td><td>17.0</td><td>0.0</td><td>0.5</td><td>3.56</td><td>0.0</td><td>0.3</td><td>21.36</td></tr>\n",
       "<tr><td>2</td><td>2015-12-01 00:00:00</td><td>2015-12-01 00:08:00</td><td>2</td><td>1.91</td><td>-73.99420929</td><td>40.74610138</td><td>1</td><td>N</td><td>-74.00424957</td><td>40.72180939</td><td>1</td><td>8.0</td><td>0.5</td><td>0.5</td><td>1.86</td><td>0.0</td><td>0.3</td><td>11.16</td></tr>\n",
       "<tr><td>2</td><td>2015-12-01 00:00:00</td><td>2015-12-01 00:17:00</td><td>1</td><td>4.5</td><td>-74.00675964</td><td>40.7189064</td><td>1</td><td>N</td><td>-73.98969269</td><td>40.77285385</td><td>1</td><td>16.5</td><td>0.5</td><td>0.5</td><td>3.56</td><td>0.0</td><td>0.3</td><td>21.36</td></tr>\n",
       "<tr><td>2</td><td>2015-12-01 00:00:00</td><td>2015-12-01 00:10:00</td><td>2</td><td>1.42</td><td>-73.99963379</td><td>40.73477173</td><td>1</td><td>N</td><td>-73.98906708</td><td>40.72312164</td><td>1</td><td>8.5</td><td>0.5</td><td>0.5</td><td>2.45</td><td>0.0</td><td>0.3</td><td>12.25</td></tr>\n",
       "</table>\n"
      ],
      "text/plain": [
       "+--------+--------------------+---------------------+---------------+-------------+----------------+---------------+----------+------------------+-----------------+----------------+------------+-----------+-----+-------+----------+------------+---------------------+------------+\n",
       "|VendorID|tpep_pickup_datetime|tpep_dropoff_datetime|passenger_count|trip_distance|pickup_longitude|pickup_latitude|RateCodeID|store_and_fwd_flag|dropoff_longitude|dropoff_latitude|payment_type|fare_amount|extra|mta_tax|tip_amount|tolls_amount|improvement_surcharge|total_amount|\n",
       "+--------+--------------------+---------------------+---------------+-------------+----------------+---------------+----------+------------------+-----------------+----------------+------------+-----------+-----+-------+----------+------------+---------------------+------------+\n",
       "|       2| 2015-12-01 00:00:00|  2015-12-01 00:00:00|              2|         2.69|    -73.97233582|    40.76237869|         1|                 N|     -73.99362946|     40.74599838|           1|       21.5|  0.0|    0.5|      3.34|         0.0|                  0.3|       25.64|\n",
       "|       2| 2015-12-01 00:00:00|  2015-12-01 00:00:00|              1|         2.62|    -73.96884918|    40.76453018|         1|                 N|     -73.97454834|     40.79164124|           1|       17.0|  0.0|    0.5|      3.56|         0.0|                  0.3|       21.36|\n",
       "|       2| 2015-12-01 00:00:00|  2015-12-01 00:08:00|              2|         1.91|    -73.99420929|    40.74610138|         1|                 N|     -74.00424957|     40.72180939|           1|        8.0|  0.5|    0.5|      1.86|         0.0|                  0.3|       11.16|\n",
       "|       2| 2015-12-01 00:00:00|  2015-12-01 00:17:00|              1|          4.5|    -74.00675964|     40.7189064|         1|                 N|     -73.98969269|     40.77285385|           1|       16.5|  0.5|    0.5|      3.56|         0.0|                  0.3|       21.36|\n",
       "|       2| 2015-12-01 00:00:00|  2015-12-01 00:10:00|              2|         1.42|    -73.99963379|    40.73477173|         1|                 N|     -73.98906708|     40.72312164|           1|        8.5|  0.5|    0.5|      2.45|         0.0|                  0.3|       12.25|\n",
       "+--------+--------------------+---------------------+---------------+-------------+----------------+---------------+----------+------------------+-----------------+----------------+------------+-----------+-----+-------+----------+------------+---------------------+------------+"
      ]
     },
     "execution_count": 22,
     "metadata": {},
     "output_type": "execute_result"
    }
   ],
   "source": [
    "sdf.select(sdf.columns) \\\n",
    "    .filter((col('VendorID') == 2) & (col('passenger_count') >= 1) & (col('trip_distance') >= 1)) \\\n",
    "    .limit(5)"
   ]
  },
  {
   "cell_type": "markdown",
   "id": "c0561c87",
   "metadata": {},
   "source": [
    "To list all metadata:\n",
    "- Databases: `spark.catalog.listDatabases()`\n",
    "- Tables: `spark.catalog.listTables()`\n",
    "- Columns of a table: `spark.catalog.listColumns(TABLE_NAME)`"
   ]
  },
  {
   "cell_type": "code",
   "execution_count": 23,
   "id": "18ec98dd",
   "metadata": {
    "ExecuteTime": {
     "end_time": "2021-07-04T03:00:12.417193Z",
     "start_time": "2021-07-04T03:00:12.384339Z"
    }
   },
   "outputs": [
    {
     "data": {
      "text/plain": [
       "[Database(name='default', description='default database', locationUri='file:/mnt/c/users/akira/documents/github/MAST30034_Python/advanced_tutorials/spark-warehouse')]"
      ]
     },
     "execution_count": 23,
     "metadata": {},
     "output_type": "execute_result"
    }
   ],
   "source": [
    "spark.catalog.listDatabases()"
   ]
  },
  {
   "cell_type": "code",
   "execution_count": 24,
   "id": "ad6950cb",
   "metadata": {
    "ExecuteTime": {
     "end_time": "2021-07-04T03:00:12.608666Z",
     "start_time": "2021-07-04T03:00:12.574764Z"
    }
   },
   "outputs": [
    {
     "data": {
      "text/plain": [
       "[Table(name='taxi_data', database=None, description=None, tableType='TEMPORARY', isTemporary=True)]"
      ]
     },
     "execution_count": 24,
     "metadata": {},
     "output_type": "execute_result"
    }
   ],
   "source": [
    "spark.catalog.listTables()"
   ]
  },
  {
   "cell_type": "markdown",
   "id": "7a0b08f2",
   "metadata": {},
   "source": [
    "## Creating SQL views directly from files\n",
    "- If you don't have a Spark DataFrame, you can still read it in directly using Spark SQL.\n",
    "\n",
    "Syntax:\n",
    "```python\n",
    "q = \"\"\"\n",
    "CREATE OR REPLACE TEMPORARY VIEW PARQUET_NAME\n",
    "USING parquet\n",
    "OPTIONS (path PARQUET_FPATH)\n",
    "\"\"\"\n",
    "```\n",
    "\n",
    "- `CREATE OR REPLACE TEMPORARY VIEW TABLE_NAME` is the same as `sdf.createOrReplaceTempView(TABLE_NAME)`.\n",
    "- `USING` denotes the file type (i.e `csv`).\n",
    "- `OPTIONS` indicates the file path we wish to read from."
   ]
  },
  {
   "cell_type": "code",
   "execution_count": 25,
   "id": "48cf7e22",
   "metadata": {
    "ExecuteTime": {
     "end_time": "2021-07-04T03:00:16.234501Z",
     "start_time": "2021-07-04T03:00:15.884283Z"
    }
   },
   "outputs": [
    {
     "data": {
      "text/html": [
       "<table border='1'>\n",
       "<tr><th></th></tr>\n",
       "</table>\n"
      ],
      "text/plain": [
       "++\n",
       "||\n",
       "++\n",
       "++"
      ]
     },
     "execution_count": 25,
     "metadata": {},
     "output_type": "execute_result"
    }
   ],
   "source": [
    "import os\n",
    "\n",
    "sql_query = f\"\"\"\n",
    "CREATE OR REPLACE TEMPORARY VIEW aggregation_parquet\n",
    "USING parquet\n",
    "OPTIONS (path \n",
    "    \"{'/'.join(os.getcwd().split('/')[:-1])}/data/aggregated_results.parquet/\")\n",
    "\"\"\"\n",
    "\n",
    "spark.sql(sql_query)"
   ]
  },
  {
   "cell_type": "code",
   "execution_count": 26,
   "id": "20e1b0ff",
   "metadata": {
    "ExecuteTime": {
     "end_time": "2021-07-04T03:00:18.381877Z",
     "start_time": "2021-07-04T03:00:17.997769Z"
    }
   },
   "outputs": [
    {
     "data": {
      "text/html": [
       "<table border='1'>\n",
       "<tr><th>passenger_count</th><th>avg_trip_amount</th></tr>\n",
       "<tr><td>0</td><td>13.033572474377738</td></tr>\n",
       "<tr><td>1</td><td>14.667256653975395</td></tr>\n",
       "<tr><td>2</td><td>15.37395457318419</td></tr>\n",
       "<tr><td>3</td><td>14.876514480790858</td></tr>\n",
       "<tr><td>4</td><td>14.968314051202968</td></tr>\n",
       "<tr><td>5</td><td>14.864738578983076</td></tr>\n",
       "<tr><td>6</td><td>14.564280093219365</td></tr>\n",
       "<tr><td>7</td><td>16.295</td></tr>\n",
       "<tr><td>8</td><td>58.050000000000004</td></tr>\n",
       "<tr><td>9</td><td>21.076666666666668</td></tr>\n",
       "</table>\n"
      ],
      "text/plain": [
       "+---------------+------------------+\n",
       "|passenger_count|   avg_trip_amount|\n",
       "+---------------+------------------+\n",
       "|              0|13.033572474377738|\n",
       "|              1|14.667256653975395|\n",
       "|              2| 15.37395457318419|\n",
       "|              3|14.876514480790858|\n",
       "|              4|14.968314051202968|\n",
       "|              5|14.864738578983076|\n",
       "|              6|14.564280093219365|\n",
       "|              7|            16.295|\n",
       "|              8|58.050000000000004|\n",
       "|              9|21.076666666666668|\n",
       "+---------------+------------------+"
      ]
     },
     "execution_count": 26,
     "metadata": {},
     "output_type": "execute_result"
    }
   ],
   "source": [
    "spark.sql(\"SELECT * FROM aggregation_parquet\")"
   ]
  }
 ],
 "metadata": {
  "kernelspec": {
   "display_name": "Python 3",
   "language": "python",
   "name": "python3"
  },
  "language_info": {
   "codemirror_mode": {
    "name": "ipython",
    "version": 3
   },
   "file_extension": ".py",
   "mimetype": "text/x-python",
   "name": "python",
   "nbconvert_exporter": "python",
   "pygments_lexer": "ipython3",
   "version": "3.8.5"
  },
  "latex_envs": {
   "LaTeX_envs_menu_present": true,
   "autoclose": false,
   "autocomplete": true,
   "bibliofile": "biblio.bib",
   "cite_by": "apalike",
   "current_citInitial": 1,
   "eqLabelWithNumbers": true,
   "eqNumInitial": 1,
   "hotkeys": {
    "equation": "Ctrl-E",
    "itemize": "Ctrl-I"
   },
   "labels_anchors": false,
   "latex_user_defs": false,
   "report_style_numbering": false,
   "user_envs_cfg": false
  },
  "toc": {
   "base_numbering": 1,
   "nav_menu": {},
   "number_sections": true,
   "sideBar": true,
   "skip_h1_title": false,
   "title_cell": "Table of Contents",
   "title_sidebar": "Contents",
   "toc_cell": false,
   "toc_position": {},
   "toc_section_display": true,
   "toc_window_display": false
  },
  "varInspector": {
   "cols": {
    "lenName": 16,
    "lenType": 16,
    "lenVar": 40
   },
   "kernels_config": {
    "python": {
     "delete_cmd_postfix": "",
     "delete_cmd_prefix": "del ",
     "library": "var_list.py",
     "varRefreshCmd": "print(var_dic_list())"
    },
    "r": {
     "delete_cmd_postfix": ") ",
     "delete_cmd_prefix": "rm(",
     "library": "var_list.r",
     "varRefreshCmd": "cat(var_dic_list()) "
    }
   },
   "types_to_exclude": [
    "module",
    "function",
    "builtin_function_or_method",
    "instance",
    "_Feature"
   ],
   "window_display": false
  }
 },
 "nbformat": 4,
 "nbformat_minor": 5
}
