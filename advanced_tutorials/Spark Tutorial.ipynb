{
 "cells": [
  {
   "cell_type": "markdown",
   "id": "988f37e5",
   "metadata": {},
   "source": [
    "# Spark 3.0 Tutorial\n",
    "- Author: Akira Takihara Wang (https://github.com/akiratwang)\n",
    "- Tutorial Up-to-Date as of: April 2021  \n",
    "- Usage: For MAST30034 students only  \n",
    "\n",
    "Tutorial Operating System(s):\n",
    "- Windows 10 and WSL2\n",
    "- Linux"
   ]
  },
  {
   "cell_type": "markdown",
   "id": "738ca586",
   "metadata": {},
   "source": [
    "# Working with Larger Datasets with a Scalable Solution!\n",
    "- Consider the full 2015 Taxi Dataset (at ~2GB per month @ ~24GB annually)\n",
    "- Datasets with more than 20k rows would be hard for Excel, but fine for Pandas.\n",
    "- A file with more than 100mil rows (a few GB) is large for Pandas.\n",
    "- Although `pandas` would be sufficient for each month, how about a whole year?\n",
    "\n",
    "That's right, use Spark 3.0!\n",
    "![image.png](https://spark.apache.org/images/spark-logo-trademark.png)\n",
    "\n",
    "\n",
    "## Pre-Requisites for this Tutorial\n",
    "1. You must already have Spark installed.\n",
    "2. You need the dataset downloaded.\n",
    "\n",
    "The code below downloads all 2015 data directly from the Amazon S3 Bucket. This is approximately ~21.3GB in size, so make sure you have ample storage space. You will only need to run this once.\n",
    "```python\n",
    "from os.path import getsize\n",
    "from urllib.request import urlretrieve\n",
    "\n",
    "output_dir = \"../data/large\"\n",
    "fname_template = \"yellow_tripdata_2015\"\n",
    "\n",
    "for m in range(1, 13):\n",
    "    month = str(m).zfill(2)\n",
    "    out = f'{fname_template}-{month}.csv'\n",
    "    url = f\"https://s3.amazonaws.com/nyc-tlc/trip+data/{out}\"\n",
    "    urlretrieve(url, f\"{output_dir}/{out}\")\n",
    "\n",
    "    print(f\"Done downloading {out} to {output_dir} with size {getsize(f'{output_dir}/{out}') / 1073741824:.2f}GB\")\n",
    "```\n",
    "\n",
    "## Optional Installation\n",
    "- Requires NodeJS and nbextensions installed:\n",
    "```bash\n",
    "# install NodeJS\n",
    "sudo apt install npm\n",
    "# install Jupyter Extensions\n",
    "pip3 install jupyter_contrib_nbextensions\n",
    "jupyter contrib nbextension install --user\n",
    "jupyter nbextension enable varInspector/main\n",
    "```\n",
    "- Follow instructions to install `SparkMonitor` (https://github.com/swan-cern/jupyter-extensions)\n",
    "```bash\n",
    "pip3 install sparkmonitor\n",
    "jupyter nbextension install sparkmonitor --py --user\n",
    "jupyter nbextension enable  sparkmonitor --py --user\n",
    "jupyter serverextension enable --py --system sparkmonitor  --user\n",
    "jupyter lab build\n",
    "ipython profile create\n",
    "echo \"c.InteractiveShellApp.extensions.append('sparkmonitor.kernelextension')\" >>  $(ipython profile locate default)/ipython_kernel_config.py\n",
    "```\n",
    "\n",
    "![image.gif](https://user-images.githubusercontent.com/6822941/29753710-ff8849b6-8b94-11e7-8f9c-bdc59bf72143.gif)"
   ]
  },
  {
   "cell_type": "markdown",
   "id": "1590e39a",
   "metadata": {},
   "source": [
    "Only run this cell below if you have installed `SparkMonitor`. Otherwise, it will result in an error."
   ]
  },
  {
   "cell_type": "code",
   "execution_count": 1,
   "id": "cba90387",
   "metadata": {
    "ExecuteTime": {
     "end_time": "2021-08-03T02:57:02.752976Z",
     "start_time": "2021-08-03T02:57:00.100432Z"
    }
   },
   "outputs": [],
   "source": [
    "from pyspark import SparkContext\n",
    "\n",
    "# Start the spark context\n",
    "sc = SparkContext.getOrCreate(conf=swan_spark_conf) "
   ]
  },
  {
   "cell_type": "markdown",
   "id": "70f39986",
   "metadata": {},
   "source": [
    "# Starting a Spark Session\n",
    "Start your Spark Session using `SparkSession.builder.getOrCreate()`. This is an object that provides some point of entry to interact with Spark functionalities."
   ]
  },
  {
   "cell_type": "code",
   "execution_count": 2,
   "id": "d134d0c6",
   "metadata": {
    "ExecuteTime": {
     "end_time": "2021-08-03T02:57:02.879459Z",
     "start_time": "2021-08-03T02:57:02.763309Z"
    }
   },
   "outputs": [],
   "source": [
    "from pyspark.sql import SparkSession\n",
    "import warnings\n",
    "warnings.filterwarnings(\"ignore\")\n",
    "\n",
    "# create a spark session (which will run spark jobs)\n",
    "spark = SparkSession.builder.getOrCreate()"
   ]
  },
  {
   "cell_type": "markdown",
   "id": "6a7f18f4",
   "metadata": {},
   "source": [
    "## Spark DataFrames\n",
    "To create a Spark DataFrames using a Pandas, simply pass it through `spark.createDataFrame()`.\n",
    "- It's common convention to name pandas df as `df` and spark df as `sdf`\n",
    "- And yes, Spark DataFrames *do* look ugly..."
   ]
  },
  {
   "cell_type": "code",
   "execution_count": 3,
   "id": "4b0929f2",
   "metadata": {
    "ExecuteTime": {
     "end_time": "2021-08-03T02:57:03.208978Z",
     "start_time": "2021-08-03T02:57:02.888272Z"
    }
   },
   "outputs": [],
   "source": [
    "import pandas as pd\n",
    "\n",
    "df = pd.read_csv('../data/sample.csv')"
   ]
  },
  {
   "cell_type": "code",
   "execution_count": 7,
   "id": "c153c222",
   "metadata": {
    "ExecuteTime": {
     "end_time": "2021-08-03T02:57:23.201644Z",
     "start_time": "2021-08-03T02:57:15.429189Z"
    }
   },
   "outputs": [
    {
     "name": "stdout",
     "output_type": "stream",
     "text": [
      "+--------+--------------------+---------------------+---------------+-------------+----------------+---------------+----------+------------------+-----------------+----------------+------------+-----------+-----+-------+----------+------------+---------------------+------------+\n",
      "|VendorID|tpep_pickup_datetime|tpep_dropoff_datetime|passenger_count|trip_distance|pickup_longitude|pickup_latitude|RatecodeID|store_and_fwd_flag|dropoff_longitude|dropoff_latitude|payment_type|fare_amount|extra|mta_tax|tip_amount|tolls_amount|improvement_surcharge|total_amount|\n",
      "+--------+--------------------+---------------------+---------------+-------------+----------------+---------------+----------+------------------+-----------------+----------------+------------+-----------+-----+-------+----------+------------+---------------------+------------+\n",
      "|       2|        1/12/15 0:00|         1/12/15 0:05|              5|         0.96|    -73.97994232|    40.76538086|         1|                 N|     -73.96630859|     40.76308823|           1|        5.5|  0.5|    0.5|       1.0|         0.0|                  0.3|         7.8|\n",
      "|       2|        1/12/15 0:00|         1/12/15 0:00|              2|         2.69|    -73.97233582|    40.76237869|         1|                 N|     -73.99362946|     40.74599838|           1|       21.5|  0.0|    0.5|      3.34|         0.0|                  0.3|       25.64|\n",
      "|       2|        1/12/15 0:00|         1/12/15 0:00|              1|         2.62|    -73.96884918|    40.76453018|         1|                 N|     -73.97454834|     40.79164124|           1|       17.0|  0.0|    0.5|      3.56|         0.0|                  0.3|       21.36|\n",
      "|       1|        1/12/15 0:00|         1/12/15 0:05|              1|          1.2|    -73.99393463|    40.74168396|         1|                 N|     -73.99766541|     40.74746704|           1|        6.5|  0.5|    0.5|       0.2|         0.0|                  0.3|         8.0|\n",
      "|       1|        1/12/15 0:00|         1/12/15 0:09|              2|          3.0|    -73.98892212|    40.72698975|         1|                 N|     -73.97559357|      40.6968689|           2|       11.0|  0.5|    0.5|       0.0|         0.0|                  0.3|        12.3|\n",
      "+--------+--------------------+---------------------+---------------+-------------+----------------+---------------+----------+------------------+-----------------+----------------+------------+-----------+-----+-------+----------+------------+---------------------+------------+\n",
      "only showing top 5 rows\n",
      "\n"
     ]
    }
   ],
   "source": [
    "sdf = spark.createDataFrame(df)\n",
    "sdf.show(5)"
   ]
  },
  {
   "cell_type": "markdown",
   "id": "2c52393a",
   "metadata": {},
   "source": [
    "- If you want to make it look nice (for the first 20 rows), then you can change the setting.\n",
    "- Use `sdf.limit()` as the alternative to `df.head()` from Pandas"
   ]
  },
  {
   "cell_type": "code",
   "execution_count": 8,
   "id": "d7f96ad3",
   "metadata": {
    "ExecuteTime": {
     "end_time": "2021-08-03T02:58:42.069735Z",
     "start_time": "2021-08-03T02:58:42.067382Z"
    }
   },
   "outputs": [],
   "source": [
    "spark.conf.set('spark.sql.repl.eagerEval.enabled', True)"
   ]
  },
  {
   "cell_type": "code",
   "execution_count": 9,
   "id": "05e8e024",
   "metadata": {
    "ExecuteTime": {
     "end_time": "2021-08-03T02:58:42.952783Z",
     "start_time": "2021-08-03T02:58:42.279868Z"
    }
   },
   "outputs": [
    {
     "data": {
      "text/html": [
       "<table border='1'>\n",
       "<tr><th>VendorID</th><th>tpep_pickup_datetime</th><th>tpep_dropoff_datetime</th><th>passenger_count</th><th>trip_distance</th><th>pickup_longitude</th><th>pickup_latitude</th><th>RatecodeID</th><th>store_and_fwd_flag</th><th>dropoff_longitude</th><th>dropoff_latitude</th><th>payment_type</th><th>fare_amount</th><th>extra</th><th>mta_tax</th><th>tip_amount</th><th>tolls_amount</th><th>improvement_surcharge</th><th>total_amount</th></tr>\n",
       "<tr><td>2</td><td>1/12/15 0:00</td><td>1/12/15 0:05</td><td>5</td><td>0.96</td><td>-73.97994232</td><td>40.76538086</td><td>1</td><td>N</td><td>-73.96630859</td><td>40.76308823</td><td>1</td><td>5.5</td><td>0.5</td><td>0.5</td><td>1.0</td><td>0.0</td><td>0.3</td><td>7.8</td></tr>\n",
       "<tr><td>2</td><td>1/12/15 0:00</td><td>1/12/15 0:00</td><td>2</td><td>2.69</td><td>-73.97233582</td><td>40.76237869</td><td>1</td><td>N</td><td>-73.99362946</td><td>40.74599838</td><td>1</td><td>21.5</td><td>0.0</td><td>0.5</td><td>3.34</td><td>0.0</td><td>0.3</td><td>25.64</td></tr>\n",
       "<tr><td>2</td><td>1/12/15 0:00</td><td>1/12/15 0:00</td><td>1</td><td>2.62</td><td>-73.96884918</td><td>40.76453018</td><td>1</td><td>N</td><td>-73.97454834</td><td>40.79164124</td><td>1</td><td>17.0</td><td>0.0</td><td>0.5</td><td>3.56</td><td>0.0</td><td>0.3</td><td>21.36</td></tr>\n",
       "<tr><td>1</td><td>1/12/15 0:00</td><td>1/12/15 0:05</td><td>1</td><td>1.2</td><td>-73.99393463</td><td>40.74168396</td><td>1</td><td>N</td><td>-73.99766541</td><td>40.74746704</td><td>1</td><td>6.5</td><td>0.5</td><td>0.5</td><td>0.2</td><td>0.0</td><td>0.3</td><td>8.0</td></tr>\n",
       "<tr><td>1</td><td>1/12/15 0:00</td><td>1/12/15 0:09</td><td>2</td><td>3.0</td><td>-73.98892212</td><td>40.72698975</td><td>1</td><td>N</td><td>-73.97559357</td><td>40.6968689</td><td>2</td><td>11.0</td><td>0.5</td><td>0.5</td><td>0.0</td><td>0.0</td><td>0.3</td><td>12.3</td></tr>\n",
       "</table>\n"
      ],
      "text/plain": [
       "+--------+--------------------+---------------------+---------------+-------------+----------------+---------------+----------+------------------+-----------------+----------------+------------+-----------+-----+-------+----------+------------+---------------------+------------+\n",
       "|VendorID|tpep_pickup_datetime|tpep_dropoff_datetime|passenger_count|trip_distance|pickup_longitude|pickup_latitude|RatecodeID|store_and_fwd_flag|dropoff_longitude|dropoff_latitude|payment_type|fare_amount|extra|mta_tax|tip_amount|tolls_amount|improvement_surcharge|total_amount|\n",
       "+--------+--------------------+---------------------+---------------+-------------+----------------+---------------+----------+------------------+-----------------+----------------+------------+-----------+-----+-------+----------+------------+---------------------+------------+\n",
       "|       2|        1/12/15 0:00|         1/12/15 0:05|              5|         0.96|    -73.97994232|    40.76538086|         1|                 N|     -73.96630859|     40.76308823|           1|        5.5|  0.5|    0.5|       1.0|         0.0|                  0.3|         7.8|\n",
       "|       2|        1/12/15 0:00|         1/12/15 0:00|              2|         2.69|    -73.97233582|    40.76237869|         1|                 N|     -73.99362946|     40.74599838|           1|       21.5|  0.0|    0.5|      3.34|         0.0|                  0.3|       25.64|\n",
       "|       2|        1/12/15 0:00|         1/12/15 0:00|              1|         2.62|    -73.96884918|    40.76453018|         1|                 N|     -73.97454834|     40.79164124|           1|       17.0|  0.0|    0.5|      3.56|         0.0|                  0.3|       21.36|\n",
       "|       1|        1/12/15 0:00|         1/12/15 0:05|              1|          1.2|    -73.99393463|    40.74168396|         1|                 N|     -73.99766541|     40.74746704|           1|        6.5|  0.5|    0.5|       0.2|         0.0|                  0.3|         8.0|\n",
       "|       1|        1/12/15 0:00|         1/12/15 0:09|              2|          3.0|    -73.98892212|    40.72698975|         1|                 N|     -73.97559357|      40.6968689|           2|       11.0|  0.5|    0.5|       0.0|         0.0|                  0.3|        12.3|\n",
       "+--------+--------------------+---------------------+---------------+-------------+----------------+---------------+----------+------------------+-----------------+----------------+------------+-----------+-----+-------+----------+------------+---------------------+------------+"
      ]
     },
     "execution_count": 9,
     "metadata": {},
     "output_type": "execute_result"
    }
   ],
   "source": [
    "sdf.limit(5)"
   ]
  },
  {
   "cell_type": "markdown",
   "id": "5e365027",
   "metadata": {},
   "source": [
    "To convert a Spark DataFrame back into a Pandas dataframe:"
   ]
  },
  {
   "cell_type": "code",
   "execution_count": 10,
   "id": "abe4ff5c",
   "metadata": {
    "ExecuteTime": {
     "end_time": "2021-08-03T02:58:46.025326Z",
     "start_time": "2021-08-03T02:58:44.738444Z"
    }
   },
   "outputs": [
    {
     "data": {
      "text/html": [
       "<div>\n",
       "<style scoped>\n",
       "    .dataframe tbody tr th:only-of-type {\n",
       "        vertical-align: middle;\n",
       "    }\n",
       "\n",
       "    .dataframe tbody tr th {\n",
       "        vertical-align: top;\n",
       "    }\n",
       "\n",
       "    .dataframe thead th {\n",
       "        text-align: right;\n",
       "    }\n",
       "</style>\n",
       "<table border=\"1\" class=\"dataframe\">\n",
       "  <thead>\n",
       "    <tr style=\"text-align: right;\">\n",
       "      <th></th>\n",
       "      <th>VendorID</th>\n",
       "      <th>tpep_pickup_datetime</th>\n",
       "      <th>tpep_dropoff_datetime</th>\n",
       "      <th>passenger_count</th>\n",
       "      <th>trip_distance</th>\n",
       "      <th>pickup_longitude</th>\n",
       "      <th>pickup_latitude</th>\n",
       "      <th>RatecodeID</th>\n",
       "      <th>store_and_fwd_flag</th>\n",
       "      <th>dropoff_longitude</th>\n",
       "      <th>dropoff_latitude</th>\n",
       "      <th>payment_type</th>\n",
       "      <th>fare_amount</th>\n",
       "      <th>extra</th>\n",
       "      <th>mta_tax</th>\n",
       "      <th>tip_amount</th>\n",
       "      <th>tolls_amount</th>\n",
       "      <th>improvement_surcharge</th>\n",
       "      <th>total_amount</th>\n",
       "    </tr>\n",
       "  </thead>\n",
       "  <tbody>\n",
       "    <tr>\n",
       "      <th>0</th>\n",
       "      <td>2</td>\n",
       "      <td>1/12/15 0:00</td>\n",
       "      <td>1/12/15 0:05</td>\n",
       "      <td>5</td>\n",
       "      <td>0.96</td>\n",
       "      <td>-73.979942</td>\n",
       "      <td>40.765381</td>\n",
       "      <td>1</td>\n",
       "      <td>N</td>\n",
       "      <td>-73.966309</td>\n",
       "      <td>40.763088</td>\n",
       "      <td>1</td>\n",
       "      <td>5.5</td>\n",
       "      <td>0.5</td>\n",
       "      <td>0.5</td>\n",
       "      <td>1.00</td>\n",
       "      <td>0.0</td>\n",
       "      <td>0.3</td>\n",
       "      <td>7.80</td>\n",
       "    </tr>\n",
       "    <tr>\n",
       "      <th>1</th>\n",
       "      <td>2</td>\n",
       "      <td>1/12/15 0:00</td>\n",
       "      <td>1/12/15 0:00</td>\n",
       "      <td>2</td>\n",
       "      <td>2.69</td>\n",
       "      <td>-73.972336</td>\n",
       "      <td>40.762379</td>\n",
       "      <td>1</td>\n",
       "      <td>N</td>\n",
       "      <td>-73.993629</td>\n",
       "      <td>40.745998</td>\n",
       "      <td>1</td>\n",
       "      <td>21.5</td>\n",
       "      <td>0.0</td>\n",
       "      <td>0.5</td>\n",
       "      <td>3.34</td>\n",
       "      <td>0.0</td>\n",
       "      <td>0.3</td>\n",
       "      <td>25.64</td>\n",
       "    </tr>\n",
       "    <tr>\n",
       "      <th>2</th>\n",
       "      <td>2</td>\n",
       "      <td>1/12/15 0:00</td>\n",
       "      <td>1/12/15 0:00</td>\n",
       "      <td>1</td>\n",
       "      <td>2.62</td>\n",
       "      <td>-73.968849</td>\n",
       "      <td>40.764530</td>\n",
       "      <td>1</td>\n",
       "      <td>N</td>\n",
       "      <td>-73.974548</td>\n",
       "      <td>40.791641</td>\n",
       "      <td>1</td>\n",
       "      <td>17.0</td>\n",
       "      <td>0.0</td>\n",
       "      <td>0.5</td>\n",
       "      <td>3.56</td>\n",
       "      <td>0.0</td>\n",
       "      <td>0.3</td>\n",
       "      <td>21.36</td>\n",
       "    </tr>\n",
       "    <tr>\n",
       "      <th>3</th>\n",
       "      <td>1</td>\n",
       "      <td>1/12/15 0:00</td>\n",
       "      <td>1/12/15 0:05</td>\n",
       "      <td>1</td>\n",
       "      <td>1.20</td>\n",
       "      <td>-73.993935</td>\n",
       "      <td>40.741684</td>\n",
       "      <td>1</td>\n",
       "      <td>N</td>\n",
       "      <td>-73.997665</td>\n",
       "      <td>40.747467</td>\n",
       "      <td>1</td>\n",
       "      <td>6.5</td>\n",
       "      <td>0.5</td>\n",
       "      <td>0.5</td>\n",
       "      <td>0.20</td>\n",
       "      <td>0.0</td>\n",
       "      <td>0.3</td>\n",
       "      <td>8.00</td>\n",
       "    </tr>\n",
       "    <tr>\n",
       "      <th>4</th>\n",
       "      <td>1</td>\n",
       "      <td>1/12/15 0:00</td>\n",
       "      <td>1/12/15 0:09</td>\n",
       "      <td>2</td>\n",
       "      <td>3.00</td>\n",
       "      <td>-73.988922</td>\n",
       "      <td>40.726990</td>\n",
       "      <td>1</td>\n",
       "      <td>N</td>\n",
       "      <td>-73.975594</td>\n",
       "      <td>40.696869</td>\n",
       "      <td>2</td>\n",
       "      <td>11.0</td>\n",
       "      <td>0.5</td>\n",
       "      <td>0.5</td>\n",
       "      <td>0.00</td>\n",
       "      <td>0.0</td>\n",
       "      <td>0.3</td>\n",
       "      <td>12.30</td>\n",
       "    </tr>\n",
       "    <tr>\n",
       "      <th>...</th>\n",
       "      <td>...</td>\n",
       "      <td>...</td>\n",
       "      <td>...</td>\n",
       "      <td>...</td>\n",
       "      <td>...</td>\n",
       "      <td>...</td>\n",
       "      <td>...</td>\n",
       "      <td>...</td>\n",
       "      <td>...</td>\n",
       "      <td>...</td>\n",
       "      <td>...</td>\n",
       "      <td>...</td>\n",
       "      <td>...</td>\n",
       "      <td>...</td>\n",
       "      <td>...</td>\n",
       "      <td>...</td>\n",
       "      <td>...</td>\n",
       "      <td>...</td>\n",
       "      <td>...</td>\n",
       "    </tr>\n",
       "    <tr>\n",
       "      <th>99995</th>\n",
       "      <td>2</td>\n",
       "      <td>4/12/15 22:55</td>\n",
       "      <td>4/12/15 23:03</td>\n",
       "      <td>1</td>\n",
       "      <td>0.75</td>\n",
       "      <td>-73.994370</td>\n",
       "      <td>40.746239</td>\n",
       "      <td>1</td>\n",
       "      <td>N</td>\n",
       "      <td>-73.980774</td>\n",
       "      <td>40.742146</td>\n",
       "      <td>2</td>\n",
       "      <td>6.5</td>\n",
       "      <td>0.5</td>\n",
       "      <td>0.5</td>\n",
       "      <td>0.00</td>\n",
       "      <td>0.0</td>\n",
       "      <td>0.3</td>\n",
       "      <td>7.80</td>\n",
       "    </tr>\n",
       "    <tr>\n",
       "      <th>99996</th>\n",
       "      <td>1</td>\n",
       "      <td>4/12/15 22:55</td>\n",
       "      <td>4/12/15 23:08</td>\n",
       "      <td>1</td>\n",
       "      <td>2.40</td>\n",
       "      <td>-73.968346</td>\n",
       "      <td>40.759735</td>\n",
       "      <td>1</td>\n",
       "      <td>N</td>\n",
       "      <td>-73.969879</td>\n",
       "      <td>40.784767</td>\n",
       "      <td>2</td>\n",
       "      <td>11.0</td>\n",
       "      <td>0.5</td>\n",
       "      <td>0.5</td>\n",
       "      <td>0.00</td>\n",
       "      <td>0.0</td>\n",
       "      <td>0.3</td>\n",
       "      <td>12.30</td>\n",
       "    </tr>\n",
       "    <tr>\n",
       "      <th>99997</th>\n",
       "      <td>1</td>\n",
       "      <td>4/12/15 22:55</td>\n",
       "      <td>4/12/15 23:01</td>\n",
       "      <td>1</td>\n",
       "      <td>0.80</td>\n",
       "      <td>-73.993484</td>\n",
       "      <td>40.742168</td>\n",
       "      <td>1</td>\n",
       "      <td>N</td>\n",
       "      <td>-73.984390</td>\n",
       "      <td>40.750008</td>\n",
       "      <td>1</td>\n",
       "      <td>6.0</td>\n",
       "      <td>0.5</td>\n",
       "      <td>0.5</td>\n",
       "      <td>1.45</td>\n",
       "      <td>0.0</td>\n",
       "      <td>0.3</td>\n",
       "      <td>8.75</td>\n",
       "    </tr>\n",
       "    <tr>\n",
       "      <th>99998</th>\n",
       "      <td>2</td>\n",
       "      <td>4/12/15 22:55</td>\n",
       "      <td>4/12/15 23:17</td>\n",
       "      <td>1</td>\n",
       "      <td>4.73</td>\n",
       "      <td>-73.984993</td>\n",
       "      <td>40.747929</td>\n",
       "      <td>1</td>\n",
       "      <td>N</td>\n",
       "      <td>-73.981552</td>\n",
       "      <td>40.689789</td>\n",
       "      <td>1</td>\n",
       "      <td>18.5</td>\n",
       "      <td>0.5</td>\n",
       "      <td>0.5</td>\n",
       "      <td>3.96</td>\n",
       "      <td>0.0</td>\n",
       "      <td>0.3</td>\n",
       "      <td>23.76</td>\n",
       "    </tr>\n",
       "    <tr>\n",
       "      <th>99999</th>\n",
       "      <td>2</td>\n",
       "      <td>4/12/15 22:55</td>\n",
       "      <td>4/12/15 22:59</td>\n",
       "      <td>2</td>\n",
       "      <td>0.80</td>\n",
       "      <td>-73.975731</td>\n",
       "      <td>40.751968</td>\n",
       "      <td>1</td>\n",
       "      <td>N</td>\n",
       "      <td>-73.981247</td>\n",
       "      <td>40.742111</td>\n",
       "      <td>1</td>\n",
       "      <td>4.5</td>\n",
       "      <td>0.5</td>\n",
       "      <td>0.5</td>\n",
       "      <td>1.16</td>\n",
       "      <td>0.0</td>\n",
       "      <td>0.3</td>\n",
       "      <td>6.96</td>\n",
       "    </tr>\n",
       "  </tbody>\n",
       "</table>\n",
       "<p>100000 rows × 19 columns</p>\n",
       "</div>"
      ],
      "text/plain": [
       "       VendorID tpep_pickup_datetime tpep_dropoff_datetime  passenger_count  \\\n",
       "0             2         1/12/15 0:00          1/12/15 0:05                5   \n",
       "1             2         1/12/15 0:00          1/12/15 0:00                2   \n",
       "2             2         1/12/15 0:00          1/12/15 0:00                1   \n",
       "3             1         1/12/15 0:00          1/12/15 0:05                1   \n",
       "4             1         1/12/15 0:00          1/12/15 0:09                2   \n",
       "...         ...                  ...                   ...              ...   \n",
       "99995         2        4/12/15 22:55         4/12/15 23:03                1   \n",
       "99996         1        4/12/15 22:55         4/12/15 23:08                1   \n",
       "99997         1        4/12/15 22:55         4/12/15 23:01                1   \n",
       "99998         2        4/12/15 22:55         4/12/15 23:17                1   \n",
       "99999         2        4/12/15 22:55         4/12/15 22:59                2   \n",
       "\n",
       "       trip_distance  pickup_longitude  pickup_latitude  RatecodeID  \\\n",
       "0               0.96        -73.979942        40.765381           1   \n",
       "1               2.69        -73.972336        40.762379           1   \n",
       "2               2.62        -73.968849        40.764530           1   \n",
       "3               1.20        -73.993935        40.741684           1   \n",
       "4               3.00        -73.988922        40.726990           1   \n",
       "...              ...               ...              ...         ...   \n",
       "99995           0.75        -73.994370        40.746239           1   \n",
       "99996           2.40        -73.968346        40.759735           1   \n",
       "99997           0.80        -73.993484        40.742168           1   \n",
       "99998           4.73        -73.984993        40.747929           1   \n",
       "99999           0.80        -73.975731        40.751968           1   \n",
       "\n",
       "      store_and_fwd_flag  dropoff_longitude  dropoff_latitude  payment_type  \\\n",
       "0                      N         -73.966309         40.763088             1   \n",
       "1                      N         -73.993629         40.745998             1   \n",
       "2                      N         -73.974548         40.791641             1   \n",
       "3                      N         -73.997665         40.747467             1   \n",
       "4                      N         -73.975594         40.696869             2   \n",
       "...                  ...                ...               ...           ...   \n",
       "99995                  N         -73.980774         40.742146             2   \n",
       "99996                  N         -73.969879         40.784767             2   \n",
       "99997                  N         -73.984390         40.750008             1   \n",
       "99998                  N         -73.981552         40.689789             1   \n",
       "99999                  N         -73.981247         40.742111             1   \n",
       "\n",
       "       fare_amount  extra  mta_tax  tip_amount  tolls_amount  \\\n",
       "0              5.5    0.5      0.5        1.00           0.0   \n",
       "1             21.5    0.0      0.5        3.34           0.0   \n",
       "2             17.0    0.0      0.5        3.56           0.0   \n",
       "3              6.5    0.5      0.5        0.20           0.0   \n",
       "4             11.0    0.5      0.5        0.00           0.0   \n",
       "...            ...    ...      ...         ...           ...   \n",
       "99995          6.5    0.5      0.5        0.00           0.0   \n",
       "99996         11.0    0.5      0.5        0.00           0.0   \n",
       "99997          6.0    0.5      0.5        1.45           0.0   \n",
       "99998         18.5    0.5      0.5        3.96           0.0   \n",
       "99999          4.5    0.5      0.5        1.16           0.0   \n",
       "\n",
       "       improvement_surcharge  total_amount  \n",
       "0                        0.3          7.80  \n",
       "1                        0.3         25.64  \n",
       "2                        0.3         21.36  \n",
       "3                        0.3          8.00  \n",
       "4                        0.3         12.30  \n",
       "...                      ...           ...  \n",
       "99995                    0.3          7.80  \n",
       "99996                    0.3         12.30  \n",
       "99997                    0.3          8.75  \n",
       "99998                    0.3         23.76  \n",
       "99999                    0.3          6.96  \n",
       "\n",
       "[100000 rows x 19 columns]"
      ]
     },
     "execution_count": 10,
     "metadata": {},
     "output_type": "execute_result"
    }
   ],
   "source": [
    "sdf.toPandas()"
   ]
  },
  {
   "cell_type": "markdown",
   "id": "df1d3f3f",
   "metadata": {},
   "source": [
    "- Now, you might realize that this is still redundant as you need to read it in using Pandas with this method.\n",
    "- Likewise, using a `feather` dataset format requires you to read it into Pandas and then into Spark. \n",
    "\n",
    "## Overcoming Dataset Formats\n",
    "- Directly use Apache Arrow (framework that `feather` is built on) with `pip3 install pyarrow`\n",
    "- Set `spark.conf.set('spark.sql.execution.arrow.pyspark.enabled', True)`"
   ]
  },
  {
   "cell_type": "code",
   "execution_count": 11,
   "id": "da0ca624",
   "metadata": {
    "ExecuteTime": {
     "end_time": "2021-08-03T02:58:50.069761Z",
     "start_time": "2021-08-03T02:58:48.371069Z"
    }
   },
   "outputs": [
    {
     "name": "stdout",
     "output_type": "stream",
     "text": [
      "CPU times: user 562 ms, sys: 31.2 ms, total: 594 ms\n",
      "Wall time: 843 ms\n",
      "CPU times: user 46.9 ms, sys: 109 ms, total: 156 ms\n",
      "Wall time: 829 ms\n"
     ]
    },
    {
     "data": {
      "text/html": [
       "<div>\n",
       "<style scoped>\n",
       "    .dataframe tbody tr th:only-of-type {\n",
       "        vertical-align: middle;\n",
       "    }\n",
       "\n",
       "    .dataframe tbody tr th {\n",
       "        vertical-align: top;\n",
       "    }\n",
       "\n",
       "    .dataframe thead th {\n",
       "        text-align: right;\n",
       "    }\n",
       "</style>\n",
       "<table border=\"1\" class=\"dataframe\">\n",
       "  <thead>\n",
       "    <tr style=\"text-align: right;\">\n",
       "      <th></th>\n",
       "      <th>VendorID</th>\n",
       "      <th>tpep_pickup_datetime</th>\n",
       "      <th>tpep_dropoff_datetime</th>\n",
       "      <th>passenger_count</th>\n",
       "      <th>trip_distance</th>\n",
       "      <th>pickup_longitude</th>\n",
       "      <th>pickup_latitude</th>\n",
       "      <th>RatecodeID</th>\n",
       "      <th>store_and_fwd_flag</th>\n",
       "      <th>dropoff_longitude</th>\n",
       "      <th>dropoff_latitude</th>\n",
       "      <th>payment_type</th>\n",
       "      <th>fare_amount</th>\n",
       "      <th>extra</th>\n",
       "      <th>mta_tax</th>\n",
       "      <th>tip_amount</th>\n",
       "      <th>tolls_amount</th>\n",
       "      <th>improvement_surcharge</th>\n",
       "      <th>total_amount</th>\n",
       "    </tr>\n",
       "  </thead>\n",
       "  <tbody>\n",
       "    <tr>\n",
       "      <th>0</th>\n",
       "      <td>2</td>\n",
       "      <td>1/12/15 0:00</td>\n",
       "      <td>1/12/15 0:05</td>\n",
       "      <td>5</td>\n",
       "      <td>0.96</td>\n",
       "      <td>-73.979942</td>\n",
       "      <td>40.765381</td>\n",
       "      <td>1</td>\n",
       "      <td>N</td>\n",
       "      <td>-73.966309</td>\n",
       "      <td>40.763088</td>\n",
       "      <td>1</td>\n",
       "      <td>5.5</td>\n",
       "      <td>0.5</td>\n",
       "      <td>0.5</td>\n",
       "      <td>1.00</td>\n",
       "      <td>0.0</td>\n",
       "      <td>0.3</td>\n",
       "      <td>7.80</td>\n",
       "    </tr>\n",
       "    <tr>\n",
       "      <th>1</th>\n",
       "      <td>2</td>\n",
       "      <td>1/12/15 0:00</td>\n",
       "      <td>1/12/15 0:00</td>\n",
       "      <td>2</td>\n",
       "      <td>2.69</td>\n",
       "      <td>-73.972336</td>\n",
       "      <td>40.762379</td>\n",
       "      <td>1</td>\n",
       "      <td>N</td>\n",
       "      <td>-73.993629</td>\n",
       "      <td>40.745998</td>\n",
       "      <td>1</td>\n",
       "      <td>21.5</td>\n",
       "      <td>0.0</td>\n",
       "      <td>0.5</td>\n",
       "      <td>3.34</td>\n",
       "      <td>0.0</td>\n",
       "      <td>0.3</td>\n",
       "      <td>25.64</td>\n",
       "    </tr>\n",
       "    <tr>\n",
       "      <th>2</th>\n",
       "      <td>2</td>\n",
       "      <td>1/12/15 0:00</td>\n",
       "      <td>1/12/15 0:00</td>\n",
       "      <td>1</td>\n",
       "      <td>2.62</td>\n",
       "      <td>-73.968849</td>\n",
       "      <td>40.764530</td>\n",
       "      <td>1</td>\n",
       "      <td>N</td>\n",
       "      <td>-73.974548</td>\n",
       "      <td>40.791641</td>\n",
       "      <td>1</td>\n",
       "      <td>17.0</td>\n",
       "      <td>0.0</td>\n",
       "      <td>0.5</td>\n",
       "      <td>3.56</td>\n",
       "      <td>0.0</td>\n",
       "      <td>0.3</td>\n",
       "      <td>21.36</td>\n",
       "    </tr>\n",
       "    <tr>\n",
       "      <th>3</th>\n",
       "      <td>1</td>\n",
       "      <td>1/12/15 0:00</td>\n",
       "      <td>1/12/15 0:05</td>\n",
       "      <td>1</td>\n",
       "      <td>1.20</td>\n",
       "      <td>-73.993935</td>\n",
       "      <td>40.741684</td>\n",
       "      <td>1</td>\n",
       "      <td>N</td>\n",
       "      <td>-73.997665</td>\n",
       "      <td>40.747467</td>\n",
       "      <td>1</td>\n",
       "      <td>6.5</td>\n",
       "      <td>0.5</td>\n",
       "      <td>0.5</td>\n",
       "      <td>0.20</td>\n",
       "      <td>0.0</td>\n",
       "      <td>0.3</td>\n",
       "      <td>8.00</td>\n",
       "    </tr>\n",
       "    <tr>\n",
       "      <th>4</th>\n",
       "      <td>1</td>\n",
       "      <td>1/12/15 0:00</td>\n",
       "      <td>1/12/15 0:09</td>\n",
       "      <td>2</td>\n",
       "      <td>3.00</td>\n",
       "      <td>-73.988922</td>\n",
       "      <td>40.726990</td>\n",
       "      <td>1</td>\n",
       "      <td>N</td>\n",
       "      <td>-73.975594</td>\n",
       "      <td>40.696869</td>\n",
       "      <td>2</td>\n",
       "      <td>11.0</td>\n",
       "      <td>0.5</td>\n",
       "      <td>0.5</td>\n",
       "      <td>0.00</td>\n",
       "      <td>0.0</td>\n",
       "      <td>0.3</td>\n",
       "      <td>12.30</td>\n",
       "    </tr>\n",
       "    <tr>\n",
       "      <th>...</th>\n",
       "      <td>...</td>\n",
       "      <td>...</td>\n",
       "      <td>...</td>\n",
       "      <td>...</td>\n",
       "      <td>...</td>\n",
       "      <td>...</td>\n",
       "      <td>...</td>\n",
       "      <td>...</td>\n",
       "      <td>...</td>\n",
       "      <td>...</td>\n",
       "      <td>...</td>\n",
       "      <td>...</td>\n",
       "      <td>...</td>\n",
       "      <td>...</td>\n",
       "      <td>...</td>\n",
       "      <td>...</td>\n",
       "      <td>...</td>\n",
       "      <td>...</td>\n",
       "      <td>...</td>\n",
       "    </tr>\n",
       "    <tr>\n",
       "      <th>99995</th>\n",
       "      <td>2</td>\n",
       "      <td>4/12/15 22:55</td>\n",
       "      <td>4/12/15 23:03</td>\n",
       "      <td>1</td>\n",
       "      <td>0.75</td>\n",
       "      <td>-73.994370</td>\n",
       "      <td>40.746239</td>\n",
       "      <td>1</td>\n",
       "      <td>N</td>\n",
       "      <td>-73.980774</td>\n",
       "      <td>40.742146</td>\n",
       "      <td>2</td>\n",
       "      <td>6.5</td>\n",
       "      <td>0.5</td>\n",
       "      <td>0.5</td>\n",
       "      <td>0.00</td>\n",
       "      <td>0.0</td>\n",
       "      <td>0.3</td>\n",
       "      <td>7.80</td>\n",
       "    </tr>\n",
       "    <tr>\n",
       "      <th>99996</th>\n",
       "      <td>1</td>\n",
       "      <td>4/12/15 22:55</td>\n",
       "      <td>4/12/15 23:08</td>\n",
       "      <td>1</td>\n",
       "      <td>2.40</td>\n",
       "      <td>-73.968346</td>\n",
       "      <td>40.759735</td>\n",
       "      <td>1</td>\n",
       "      <td>N</td>\n",
       "      <td>-73.969879</td>\n",
       "      <td>40.784767</td>\n",
       "      <td>2</td>\n",
       "      <td>11.0</td>\n",
       "      <td>0.5</td>\n",
       "      <td>0.5</td>\n",
       "      <td>0.00</td>\n",
       "      <td>0.0</td>\n",
       "      <td>0.3</td>\n",
       "      <td>12.30</td>\n",
       "    </tr>\n",
       "    <tr>\n",
       "      <th>99997</th>\n",
       "      <td>1</td>\n",
       "      <td>4/12/15 22:55</td>\n",
       "      <td>4/12/15 23:01</td>\n",
       "      <td>1</td>\n",
       "      <td>0.80</td>\n",
       "      <td>-73.993484</td>\n",
       "      <td>40.742168</td>\n",
       "      <td>1</td>\n",
       "      <td>N</td>\n",
       "      <td>-73.984390</td>\n",
       "      <td>40.750008</td>\n",
       "      <td>1</td>\n",
       "      <td>6.0</td>\n",
       "      <td>0.5</td>\n",
       "      <td>0.5</td>\n",
       "      <td>1.45</td>\n",
       "      <td>0.0</td>\n",
       "      <td>0.3</td>\n",
       "      <td>8.75</td>\n",
       "    </tr>\n",
       "    <tr>\n",
       "      <th>99998</th>\n",
       "      <td>2</td>\n",
       "      <td>4/12/15 22:55</td>\n",
       "      <td>4/12/15 23:17</td>\n",
       "      <td>1</td>\n",
       "      <td>4.73</td>\n",
       "      <td>-73.984993</td>\n",
       "      <td>40.747929</td>\n",
       "      <td>1</td>\n",
       "      <td>N</td>\n",
       "      <td>-73.981552</td>\n",
       "      <td>40.689789</td>\n",
       "      <td>1</td>\n",
       "      <td>18.5</td>\n",
       "      <td>0.5</td>\n",
       "      <td>0.5</td>\n",
       "      <td>3.96</td>\n",
       "      <td>0.0</td>\n",
       "      <td>0.3</td>\n",
       "      <td>23.76</td>\n",
       "    </tr>\n",
       "    <tr>\n",
       "      <th>99999</th>\n",
       "      <td>2</td>\n",
       "      <td>4/12/15 22:55</td>\n",
       "      <td>4/12/15 22:59</td>\n",
       "      <td>2</td>\n",
       "      <td>0.80</td>\n",
       "      <td>-73.975731</td>\n",
       "      <td>40.751968</td>\n",
       "      <td>1</td>\n",
       "      <td>N</td>\n",
       "      <td>-73.981247</td>\n",
       "      <td>40.742111</td>\n",
       "      <td>1</td>\n",
       "      <td>4.5</td>\n",
       "      <td>0.5</td>\n",
       "      <td>0.5</td>\n",
       "      <td>1.16</td>\n",
       "      <td>0.0</td>\n",
       "      <td>0.3</td>\n",
       "      <td>6.96</td>\n",
       "    </tr>\n",
       "  </tbody>\n",
       "</table>\n",
       "<p>100000 rows × 19 columns</p>\n",
       "</div>"
      ],
      "text/plain": [
       "       VendorID tpep_pickup_datetime tpep_dropoff_datetime  passenger_count  \\\n",
       "0             2         1/12/15 0:00          1/12/15 0:05                5   \n",
       "1             2         1/12/15 0:00          1/12/15 0:00                2   \n",
       "2             2         1/12/15 0:00          1/12/15 0:00                1   \n",
       "3             1         1/12/15 0:00          1/12/15 0:05                1   \n",
       "4             1         1/12/15 0:00          1/12/15 0:09                2   \n",
       "...         ...                  ...                   ...              ...   \n",
       "99995         2        4/12/15 22:55         4/12/15 23:03                1   \n",
       "99996         1        4/12/15 22:55         4/12/15 23:08                1   \n",
       "99997         1        4/12/15 22:55         4/12/15 23:01                1   \n",
       "99998         2        4/12/15 22:55         4/12/15 23:17                1   \n",
       "99999         2        4/12/15 22:55         4/12/15 22:59                2   \n",
       "\n",
       "       trip_distance  pickup_longitude  pickup_latitude  RatecodeID  \\\n",
       "0               0.96        -73.979942        40.765381           1   \n",
       "1               2.69        -73.972336        40.762379           1   \n",
       "2               2.62        -73.968849        40.764530           1   \n",
       "3               1.20        -73.993935        40.741684           1   \n",
       "4               3.00        -73.988922        40.726990           1   \n",
       "...              ...               ...              ...         ...   \n",
       "99995           0.75        -73.994370        40.746239           1   \n",
       "99996           2.40        -73.968346        40.759735           1   \n",
       "99997           0.80        -73.993484        40.742168           1   \n",
       "99998           4.73        -73.984993        40.747929           1   \n",
       "99999           0.80        -73.975731        40.751968           1   \n",
       "\n",
       "      store_and_fwd_flag  dropoff_longitude  dropoff_latitude  payment_type  \\\n",
       "0                      N         -73.966309         40.763088             1   \n",
       "1                      N         -73.993629         40.745998             1   \n",
       "2                      N         -73.974548         40.791641             1   \n",
       "3                      N         -73.997665         40.747467             1   \n",
       "4                      N         -73.975594         40.696869             2   \n",
       "...                  ...                ...               ...           ...   \n",
       "99995                  N         -73.980774         40.742146             2   \n",
       "99996                  N         -73.969879         40.784767             2   \n",
       "99997                  N         -73.984390         40.750008             1   \n",
       "99998                  N         -73.981552         40.689789             1   \n",
       "99999                  N         -73.981247         40.742111             1   \n",
       "\n",
       "       fare_amount  extra  mta_tax  tip_amount  tolls_amount  \\\n",
       "0              5.5    0.5      0.5        1.00           0.0   \n",
       "1             21.5    0.0      0.5        3.34           0.0   \n",
       "2             17.0    0.0      0.5        3.56           0.0   \n",
       "3              6.5    0.5      0.5        0.20           0.0   \n",
       "4             11.0    0.5      0.5        0.00           0.0   \n",
       "...            ...    ...      ...         ...           ...   \n",
       "99995          6.5    0.5      0.5        0.00           0.0   \n",
       "99996         11.0    0.5      0.5        0.00           0.0   \n",
       "99997          6.0    0.5      0.5        1.45           0.0   \n",
       "99998         18.5    0.5      0.5        3.96           0.0   \n",
       "99999          4.5    0.5      0.5        1.16           0.0   \n",
       "\n",
       "       improvement_surcharge  total_amount  \n",
       "0                        0.3          7.80  \n",
       "1                        0.3         25.64  \n",
       "2                        0.3         21.36  \n",
       "3                        0.3          8.00  \n",
       "4                        0.3         12.30  \n",
       "...                      ...           ...  \n",
       "99995                    0.3          7.80  \n",
       "99996                    0.3         12.30  \n",
       "99997                    0.3          8.75  \n",
       "99998                    0.3         23.76  \n",
       "99999                    0.3          6.96  \n",
       "\n",
       "[100000 rows x 19 columns]"
      ]
     },
     "execution_count": 11,
     "metadata": {},
     "output_type": "execute_result"
    }
   ],
   "source": [
    "# Benchmark Normal\n",
    "spark.conf.set('spark.sql.execution.arrow.pyspark.enabled', False)\n",
    "%time sdf.toPandas()\n",
    "\n",
    "# Benchmark with Apache Arrow\n",
    "spark.conf.set('spark.sql.execution.arrow.pyspark.enabled', True)\n",
    "%time sdf.toPandas()"
   ]
  },
  {
   "cell_type": "markdown",
   "id": "2ad1233b",
   "metadata": {},
   "source": [
    "As you can see, Apache Arrow is *magnitudes* faster!"
   ]
  },
  {
   "cell_type": "markdown",
   "id": "191f72d6",
   "metadata": {},
   "source": [
    "## Reading in directly to Spark\n",
    "Use `spark.read`, where you can pass through either:\n",
    "- A single file;\n",
    "- comma separated file names;\n",
    "- or a folder directory with files.\n",
    "\n",
    "Below, we read all csv's in 2015 with a dataset size of 20GB+!"
   ]
  },
  {
   "cell_type": "code",
   "execution_count": 12,
   "id": "26b04144",
   "metadata": {
    "ExecuteTime": {
     "end_time": "2021-08-03T02:58:55.305621Z",
     "start_time": "2021-08-03T02:58:54.737668Z"
    }
   },
   "outputs": [],
   "source": [
    "spark.conf.set('spark.sql.execution.arrow.pyspark.enabled', True)\n",
    "\n",
    "sdf = spark.read.csv('../data/large', header=True)"
   ]
  },
  {
   "cell_type": "code",
   "execution_count": 13,
   "id": "47666edf",
   "metadata": {
    "ExecuteTime": {
     "end_time": "2021-08-03T02:59:11.595637Z",
     "start_time": "2021-08-03T02:58:57.019406Z"
    }
   },
   "outputs": [
    {
     "data": {
      "text/plain": [
       "'146,112,989 rows!'"
      ]
     },
     "execution_count": 13,
     "metadata": {},
     "output_type": "execute_result"
    }
   ],
   "source": [
    "f\"{sdf.count():,} rows!\""
   ]
  },
  {
   "cell_type": "markdown",
   "id": "f55efa05",
   "metadata": {},
   "source": [
    "Damn, ain't it great that you can read in all the csv's without having to append or merge them **AND** no `MemoryError`???"
   ]
  },
  {
   "cell_type": "markdown",
   "id": "7cf4f768",
   "metadata": {},
   "source": [
    "## Schema\n",
    "- It is best practice to create a standard **schema** for your dataset. \n",
    "- It's very similar to creating a table in SQL (in fact its based on this) where you must specify what datatype the column is prior to adding data values.\n",
    "- View all data types here: https://spark.apache.org/docs/latest/sql-ref-datatypes.html\n",
    "\n",
    "\n",
    "Note: `RatecodeID` and `RateCodeID` are the same column, but inconsistent across months. We will be renaming it."
   ]
  },
  {
   "cell_type": "code",
   "execution_count": null,
   "id": "bf2d5646",
   "metadata": {
    "ExecuteTime": {
     "end_time": "2021-08-03T02:57:07.982199Z",
     "start_time": "2021-08-03T02:57:03.945Z"
    }
   },
   "outputs": [],
   "source": [
    "import pyspark.sql.functions as F\n",
    "\n",
    "from pyspark.sql.types import *\n",
    "from pyspark.sql.functions import col"
   ]
  },
  {
   "cell_type": "code",
   "execution_count": null,
   "id": "e0a2ccdf",
   "metadata": {
    "ExecuteTime": {
     "end_time": "2021-08-03T02:57:07.983024Z",
     "start_time": "2021-08-03T02:57:03.975Z"
    }
   },
   "outputs": [],
   "source": [
    "ints = ('VendorID', 'passenger_count', 'RateCodeID', 'RatecodeID','payment_type')\n",
    "doubles = ('trip_distance', 'pickup_longitude', 'pickup_latitude', 'dropoff_longitude', 'dropoff_latitude',\n",
    "           'fare_amount', 'extra', 'mta_tax', 'tip_amount', 'tolls_amount', 'improvement_surcharge', 'total_amount')\n",
    "strings = ('store_and_fwd_flag',)\n",
    "dtimes = ('tpep_pickup_datetime', 'tpep_dropoff_datetime', )\n",
    "\n",
    "dtypes = {column: IntegerType() for column in ints}\n",
    "dtypes.update({column: DoubleType() for column in doubles})\n",
    "dtypes.update({column: StringType() for column in strings})\n",
    "dtypes.update({column: TimestampType() for column in dtimes})"
   ]
  },
  {
   "cell_type": "code",
   "execution_count": null,
   "id": "1510dc2f",
   "metadata": {
    "ExecuteTime": {
     "end_time": "2021-08-03T02:57:07.983735Z",
     "start_time": "2021-08-03T02:57:04.005Z"
    }
   },
   "outputs": [],
   "source": [
    "schema = StructType()\n",
    "\n",
    "for column in sdf.columns:\n",
    "    schema.add(column, # column name\n",
    "               dtypes[column], # data type\n",
    "               True # is nullable?\n",
    "              )"
   ]
  },
  {
   "cell_type": "code",
   "execution_count": null,
   "id": "3914b214",
   "metadata": {
    "ExecuteTime": {
     "end_time": "2021-08-03T02:57:07.984428Z",
     "start_time": "2021-08-03T02:57:04.039Z"
    }
   },
   "outputs": [],
   "source": [
    "sdf_with_schema = spark.read.csv('../data/large', header=True, schema=schema) \\\n",
    "    .withColumnRenamed(\"RatecodeID\",\"RateCodeID\") # rename the wrong column\n",
    "\n",
    "sdf_with_schema.printSchema()"
   ]
  },
  {
   "cell_type": "code",
   "execution_count": null,
   "id": "1d10f716",
   "metadata": {
    "ExecuteTime": {
     "end_time": "2021-08-03T02:57:07.985167Z",
     "start_time": "2021-08-03T02:57:04.066Z"
    }
   },
   "outputs": [],
   "source": [
    "sdf.printSchema()"
   ]
  },
  {
   "cell_type": "markdown",
   "id": "6088f72c",
   "metadata": {},
   "source": [
    "Although most PySpark operations will automatically handle incorrect data types, it is not recommended to rely on this from a Data Integrity standpoint. Schema's will be used by Business Analysts when describing or explaining the whole data pipeline. If the schema is incorrect or suspect to change, then many things can fall apart down the end of the pipeline!"
   ]
  },
  {
   "cell_type": "code",
   "execution_count": null,
   "id": "e599e00d",
   "metadata": {
    "ExecuteTime": {
     "end_time": "2021-07-04T02:36:18.052156Z",
     "start_time": "2021-07-04T02:36:17.729986Z"
    },
    "scrolled": true
   },
   "outputs": [],
   "source": [
    "sdf_with_schema.limit(5)"
   ]
  },
  {
   "cell_type": "markdown",
   "id": "ace2abbe",
   "metadata": {},
   "source": [
    "## Transformations and Lazy Evaluation (IMPORTANT)\n",
    "- Transformations transform a Spark DataFrame into a new DataFrame *without* altering the original data, making Spark **immutable**.\n",
    "- For example, operations will return transformed results rather than mutating the original. \n",
    "- It's common to see `sdf = sdf.some_transformation()` if you are looking to overwrite it.\n",
    "- Finally, all operations in Spark are evaluated lazily! That is, the data doesn't \"move\" until called upon.\n",
    "\n",
    "Take for example the code block below. Even when renaming columns, we need to overwrite the original variable."
   ]
  },
  {
   "cell_type": "code",
   "execution_count": null,
   "id": "115687f6",
   "metadata": {
    "ExecuteTime": {
     "end_time": "2021-07-04T02:36:18.065680Z",
     "start_time": "2021-07-04T02:36:18.053343Z"
    }
   },
   "outputs": [],
   "source": [
    "sdf_with_schema = sdf_with_schema.withColumnRenamed('tpep_pickup_datetime', 'pickup_time') \\\n",
    "    .withColumnRenamed('tpep_dropoff_datetime', 'dropoff_time')"
   ]
  },
  {
   "cell_type": "code",
   "execution_count": null,
   "id": "5f836b70",
   "metadata": {
    "ExecuteTime": {
     "end_time": "2021-07-04T02:36:18.345165Z",
     "start_time": "2021-07-04T02:36:18.066910Z"
    }
   },
   "outputs": [],
   "source": [
    "sdf_with_schema.limit(5)"
   ]
  },
  {
   "cell_type": "markdown",
   "id": "4ebf5d93",
   "metadata": {},
   "source": [
    "## DataType Conversions\n",
    "Consider `tpep_pickup_datetime` as a `StringType()` and wish to convert to a `TimeStampType()`:\n",
    "```python\n",
    "# Method 1 using withColumn()\n",
    "sdf_with_schema.withColumn(\"tpep_pickup_datetime\", col(\"tpep_pickup_datetime\").cast(TimestampType()))\n",
    "\n",
    "# Method 2 using select()\n",
    "sdf_with_schema.select(col(\"tpep_pickup_datetime\").cast(\"Timestamp\"))\n",
    "\n",
    "# Method 3 using selectExpr() - similar to SQL syntax\n",
    "sdf_with_schema.selectExpr(\"cast(tpep_pickup_datetime as timestamp)\")\n",
    "```\n",
    "\n",
    "For an actual example, let's take a look at the `store_and_fwd_flag` which should be boolean. Currently, we have `N` and `Y` which we can resolve by assigning the column to a boolean condition."
   ]
  },
  {
   "cell_type": "code",
   "execution_count": null,
   "id": "d686af38",
   "metadata": {
    "ExecuteTime": {
     "end_time": "2021-07-04T02:36:18.497684Z",
     "start_time": "2021-07-04T02:36:18.346646Z"
    }
   },
   "outputs": [],
   "source": [
    "sdf_with_schema_temp = sdf_with_schema.withColumn(\"store_and_fwd_flag_bool\", \n",
    "                                             (sdf_with_schema[\"store_and_fwd_flag\"] == 'Y') \\\n",
    "                                             .cast(\"boolean\"))"
   ]
  },
  {
   "cell_type": "code",
   "execution_count": null,
   "id": "0ec8bdba",
   "metadata": {
    "ExecuteTime": {
     "end_time": "2021-07-04T02:36:18.711660Z",
     "start_time": "2021-07-04T02:36:18.498976Z"
    }
   },
   "outputs": [],
   "source": [
    "sdf_with_schema_temp.select('store_and_fwd_flag', 'store_and_fwd_flag_bool').limit(5)"
   ]
  },
  {
   "cell_type": "markdown",
   "id": "efa2ab93",
   "metadata": {},
   "source": [
    "As you can see, we now have the string `store_and_fwd_flag` set to boolean now under `store_and_fwd_flag_bool`. Let's change it in the `sdf_with_schema` DataFrame."
   ]
  },
  {
   "cell_type": "code",
   "execution_count": null,
   "id": "7d6eabf4",
   "metadata": {
    "ExecuteTime": {
     "end_time": "2021-07-04T02:36:18.723681Z",
     "start_time": "2021-07-04T02:36:18.712804Z"
    }
   },
   "outputs": [],
   "source": [
    "sdf_with_schema = sdf_with_schema.withColumn(\"store_and_fwd_flag\", \n",
    "                                             (sdf_with_schema[\"store_and_fwd_flag\"] == 'Y') \\\n",
    "                                             .cast(\"boolean\"))"
   ]
  },
  {
   "cell_type": "markdown",
   "id": "8ba271e4",
   "metadata": {},
   "source": [
    "## Retrieving and Filtering Data \n",
    "Collecting:\n",
    "- The `collect()` method is an operation that _collects_ all the rows for you (recall that Spark has lazy evaluation, so this method is the evaluation step).\n",
    "- If you use `collect()` on the full dataset or large partition, you will still result in an `OutOfMemoryError` as it will need to bring it into memory.\n",
    "- If you want to just get the size of the result, you can use `count()`.\n",
    "\n",
    "Filtering:\n",
    "- Similar to the syntax with `df.loc[]` from Pandas.\n",
    "- Use bitwise `&` or `|` to filter based on several conditions.\n",
    "- If you want to use NumPy's `.isin()` method, it's the same for Spark (and bitwise not `~` for the not in)"
   ]
  },
  {
   "cell_type": "code",
   "execution_count": null,
   "id": "4f0ebdc6",
   "metadata": {
    "ExecuteTime": {
     "end_time": "2021-07-04T02:36:18.729677Z",
     "start_time": "2021-07-04T02:36:18.725116Z"
    }
   },
   "outputs": [],
   "source": [
    "small_sdf = sdf_with_schema.limit(1000)"
   ]
  },
  {
   "cell_type": "code",
   "execution_count": null,
   "id": "7b6d6d29",
   "metadata": {
    "ExecuteTime": {
     "end_time": "2021-07-04T02:36:18.788204Z",
     "start_time": "2021-07-04T02:36:18.735263Z"
    }
   },
   "outputs": [],
   "source": [
    "rows = small_sdf.select('total_amount').limit(5).collect()\n",
    "rows"
   ]
  },
  {
   "cell_type": "code",
   "execution_count": null,
   "id": "c04d993a",
   "metadata": {
    "ExecuteTime": {
     "end_time": "2021-07-04T02:36:18.793665Z",
     "start_time": "2021-07-04T02:36:18.790539Z"
    }
   },
   "outputs": [],
   "source": [
    "# you can index your rows like normal lists\n",
    "rows[0][0]"
   ]
  },
  {
   "cell_type": "code",
   "execution_count": null,
   "id": "d74e8703",
   "metadata": {
    "ExecuteTime": {
     "end_time": "2021-07-04T02:36:19.396158Z",
     "start_time": "2021-07-04T02:36:18.794911Z"
    }
   },
   "outputs": [],
   "source": [
    "small_sdf.filter(small_sdf.store_and_fwd_flag == True)"
   ]
  },
  {
   "cell_type": "markdown",
   "id": "8fa07acd",
   "metadata": {},
   "source": [
    "You can also filter DataFrame rows using `startswith()`, `endswith()`, and `contains()` "
   ]
  },
  {
   "cell_type": "code",
   "execution_count": null,
   "id": "8e064adc",
   "metadata": {
    "ExecuteTime": {
     "end_time": "2021-07-04T02:36:19.797661Z",
     "start_time": "2021-07-04T02:36:19.397411Z"
    },
    "scrolled": true
   },
   "outputs": [],
   "source": [
    "# all trips whose pickups are -74.X, 40.Y\n",
    "small_sdf.filter((small_sdf.pickup_longitude.startswith('-74.')) \n",
    "                 & (small_sdf.pickup_latitude.startswith('40.')))"
   ]
  },
  {
   "cell_type": "markdown",
   "id": "564f116b",
   "metadata": {},
   "source": [
    "Even better, you can use the SQL `LIKE` syntax!\n",
    "- `like()` for the SQL `LIKE`;\n",
    "- and `rlike()` for regex matching."
   ]
  },
  {
   "cell_type": "code",
   "execution_count": null,
   "id": "065de664",
   "metadata": {
    "ExecuteTime": {
     "end_time": "2021-07-04T02:36:20.171167Z",
     "start_time": "2021-07-04T02:36:19.799177Z"
    },
    "scrolled": true
   },
   "outputs": [],
   "source": [
    "# using SQL LIKE\n",
    "small_sdf.filter(small_sdf.pickup_time.like('%19:%%:%%'))"
   ]
  },
  {
   "cell_type": "code",
   "execution_count": null,
   "id": "ef179205",
   "metadata": {
    "ExecuteTime": {
     "end_time": "2021-07-04T02:36:20.533156Z",
     "start_time": "2021-07-04T02:36:20.172618Z"
    },
    "scrolled": true
   },
   "outputs": [],
   "source": [
    "# using regex\n",
    "small_sdf.filter(small_sdf.pickup_time.rlike(r'.+\\s(19):\\d{2}:\\d{2}'))"
   ]
  },
  {
   "cell_type": "markdown",
   "id": "a7a7b2be",
   "metadata": {},
   "source": [
    "## Unique Values, Duplicates, and Missing Values\n",
    "- You can easily grab unique values using `sdf.distinct()` and drop duplicates using `sdf.dropDuplicates()`.\n",
    "- For missing values, it's the same with Pandas `.fillna()`."
   ]
  },
  {
   "cell_type": "code",
   "execution_count": null,
   "id": "4c34e9a7",
   "metadata": {
    "ExecuteTime": {
     "end_time": "2021-07-04T02:36:20.797161Z",
     "start_time": "2021-07-04T02:36:20.534313Z"
    }
   },
   "outputs": [],
   "source": [
    "small_sdf.select('passenger_count').distinct()"
   ]
  },
  {
   "cell_type": "markdown",
   "id": "413ac2ea",
   "metadata": {},
   "source": [
    "Here's a code snippet which inserts a `null` value into `total_amount`, then finds the number `nulls` present in `total_amount`. This is because the dataset has no nulls present.\n",
    "- We should get 1 instance back as there are no `nulls` except the one we inserted.\n",
    "- As you can see, granular changes with Spark requires a round-a-bout approach!"
   ]
  },
  {
   "cell_type": "code",
   "execution_count": null,
   "id": "550b6601",
   "metadata": {
    "ExecuteTime": {
     "end_time": "2021-07-04T02:36:21.506679Z",
     "start_time": "2021-07-04T02:36:20.798373Z"
    },
    "scrolled": true
   },
   "outputs": [],
   "source": [
    "# create a single row aand convert to sdf\n",
    "temp = small_sdf.limit(1).toPandas()\n",
    "temp.rename({'pickup_time': 'tpep_pickup_datetime', 'dropoff_time': 'tpep_dropoff_datetime'}, axis=1, inplace=True)\n",
    "temp['total_amount'] = None\n",
    "r = spark.createDataFrame(temp, schema)\n",
    "r = r.withColumn(\"store_and_fwd_flag\",(r[\"store_and_fwd_flag\"] == 'true').cast(\"boolean\"))\n",
    "\n",
    "# take the union of the two (that is, add the row to small_sdf)\n",
    "small_sdf = small_sdf.union(r)\n",
    "\n",
    "# sample 5 random rows from 10% of all the data\n",
    "small_sdf.sample(0.1).limit(5)"
   ]
  },
  {
   "cell_type": "code",
   "execution_count": null,
   "id": "5b79d6a0",
   "metadata": {
    "ExecuteTime": {
     "end_time": "2021-07-04T02:36:21.966160Z",
     "start_time": "2021-07-04T02:36:21.507918Z"
    }
   },
   "outputs": [],
   "source": [
    "# now, find all row values that are nan or null for total_amount\n",
    "small_sdf.where(col(\"total_amount\").isNull())"
   ]
  },
  {
   "cell_type": "markdown",
   "id": "8c2bcb79",
   "metadata": {},
   "source": [
    "## Sorting Values\n",
    "- As you should know from 2nd year Algorithms, sorting algorithms whilst efficient, are still costly!\n",
    "- Even for a fast `O(nlogn)` sorting algorithm, our dataset will require `146,000,000 x log2(146,000,000) = 146,000,000 x 27.12` operations!\n",
    "- So, be careful when you run a sort - avoid it if you can.\n",
    "\n",
    "Here's a few ways to sort a column:\n",
    "```python\n",
    "# sort by total amount from largest and passenger count from smallest\n",
    "small_sdf.sort(small_sdf.total_amount.desc(), small_sdf.passenger_count.asc())\n",
    "small_sdf.sort(col(\"total_amount\").desc(), col(\"passenger_count\").asc())\n",
    "small_sdf.orderBy(col(\"total_amount\").desc(), col(\"passenger_count\").asc())\n",
    "```"
   ]
  },
  {
   "cell_type": "code",
   "execution_count": null,
   "id": "0451bda6",
   "metadata": {
    "ExecuteTime": {
     "end_time": "2021-07-04T02:36:22.413160Z",
     "start_time": "2021-07-04T02:36:21.967343Z"
    },
    "scrolled": true
   },
   "outputs": [],
   "source": [
    "small_sdf.sort(col(\"total_amount\").desc(), col(\"passenger_count\").asc())"
   ]
  },
  {
   "cell_type": "markdown",
   "id": "5d90ceb7",
   "metadata": {},
   "source": [
    "## Aggregations\n",
    "- Aggregations are always a useful function whether it be for summarising data for analysis or fact tables.\n",
    "- Like Pandas, Spark also covers `count()`, `mean()`, `max()`, `agg()`, etc..."
   ]
  },
  {
   "cell_type": "code",
   "execution_count": null,
   "id": "34c448c7",
   "metadata": {
    "ExecuteTime": {
     "end_time": "2021-07-04T02:36:23.508656Z",
     "start_time": "2021-07-04T02:36:22.414446Z"
    }
   },
   "outputs": [],
   "source": [
    "from pyspark.sql.functions import mean\n",
    "\n",
    "small_sdf.groupBy(\"passenger_count\") \\\n",
    "    .agg(mean(\"total_amount\").alias(\"Average Trip Amount USD$\"),\n",
    "         mean(\"trip_distance\").alias(\"Average Distance in Miles\")) "
   ]
  },
  {
   "cell_type": "code",
   "execution_count": null,
   "id": "afbbfdda",
   "metadata": {
    "ExecuteTime": {
     "end_time": "2021-07-04T02:36:25.750652Z",
     "start_time": "2021-07-04T02:36:23.509933Z"
    }
   },
   "outputs": [],
   "source": [
    "# and yes, it does work on the full dataset (albeit it does take time...)\n",
    "results = sdf_with_schema.groupBy(\"passenger_count\") \\\n",
    "    .agg(mean(\"total_amount\").alias('avg_trip_amount')) \\\n",
    "    .orderBy(\"passenger_count\")\n",
    "\n",
    "results"
   ]
  },
  {
   "cell_type": "markdown",
   "id": "fc04543a",
   "metadata": {},
   "source": [
    "## Writing to Disk\n",
    "- Conventionally, the \"go-to\" dataset was a `csv`. For good reasons, we have explored alternatives such as data serialization methods with formats such as Python's `pickle` or Apache Arrow's `feather`.\n",
    "- Spark introduces its' own type which is a **Parquet File**.\n",
    "- You can write a specific format (if supported) using `sdf.write.format(\"parquet\").save(path)`.\n",
    "\n",
    "### Parquet:\n",
    "- Parquet files are stored as a directory structure which contains data files, metadata, and some compressed files.|\n",
    "- If the file already exists, it cannot be overwritten without removing the existing file."
   ]
  },
  {
   "cell_type": "code",
   "execution_count": null,
   "id": "3db41e9b",
   "metadata": {
    "ExecuteTime": {
     "end_time": "2021-07-04T02:42:06.345914Z",
     "start_time": "2021-07-04T02:42:06.340030Z"
    }
   },
   "outputs": [],
   "source": [
    "# Check to see if the fpath already exists. If so, remove it.\n",
    "from shutil import rmtree\n",
    "from os import path\n",
    "\n",
    "fpath = '../data/aggregated_results.parquet/'\n",
    "if path.exists(fpath):\n",
    "    rmtree(fpath)"
   ]
  },
  {
   "cell_type": "code",
   "execution_count": null,
   "id": "14b43697",
   "metadata": {
    "ExecuteTime": {
     "end_time": "2021-07-04T02:43:04.571667Z",
     "start_time": "2021-07-04T02:43:02.752967Z"
    }
   },
   "outputs": [],
   "source": [
    "results.write.format('parquet').save('../data/aggregated_results.parquet')"
   ]
  },
  {
   "cell_type": "markdown",
   "id": "8805b21e",
   "metadata": {},
   "source": [
    "Reading in `parquet` files are similar to `csv`:"
   ]
  },
  {
   "cell_type": "code",
   "execution_count": null,
   "id": "129561d9",
   "metadata": {
    "ExecuteTime": {
     "end_time": "2021-07-04T02:43:14.596285Z",
     "start_time": "2021-07-04T02:43:14.343633Z"
    }
   },
   "outputs": [],
   "source": [
    "spark.read.parquet(fpath)"
   ]
  },
  {
   "cell_type": "markdown",
   "id": "267c2b42",
   "metadata": {},
   "source": [
    "## Union and Merging\n",
    "- The `union()` method merges two Spark DataFrames and returns *a new* DataFrame with all rows from the two DataFrames *including duplicates*. \n",
    "- It works identical to SQL `UNION` and as a result, may include duplicate results.\n",
    "- If you want no duplicates, you can do `union().distinct()` (distinct was mentioned previously).\n",
    "\n",
    "The example below takes the union of two identical DataFrames consisting of 5 rows."
   ]
  },
  {
   "cell_type": "code",
   "execution_count": null,
   "id": "e9fac8d9",
   "metadata": {
    "ExecuteTime": {
     "end_time": "2021-07-04T02:45:08.347850Z",
     "start_time": "2021-07-04T02:45:08.154880Z"
    }
   },
   "outputs": [],
   "source": [
    "sdf1 = spark.createDataFrame(df.iloc[:5])\n",
    "sdf2 = spark.createDataFrame(df.iloc[:5])\n",
    "\n",
    "sdf1.union(sdf2)"
   ]
  },
  {
   "cell_type": "code",
   "execution_count": null,
   "id": "21596b5b",
   "metadata": {
    "ExecuteTime": {
     "end_time": "2021-07-04T02:45:22.726981Z",
     "start_time": "2021-07-04T02:45:21.883780Z"
    }
   },
   "outputs": [],
   "source": [
    "sdf1.union(sdf2).distinct()"
   ]
  },
  {
   "cell_type": "markdown",
   "id": "0abd056f",
   "metadata": {},
   "source": [
    "# User Defined Functions (UDF) and Pandas UDFs\n",
    "So far, all the functions and methods have been about simple aggregations or filtering rows. However, preprocessing and data cleansing usually requires more powerful tools such as `regex`.\n",
    "\n",
    "Unlike Pandas's `apply()` method (and also `rdd.map()`), we need to do a \"bit\" more work to generate UDFs.\n",
    "\n",
    "1. Create a function with a `@udf()` decorator.\n",
    "2. Specify an output data type (i.e `StringType()`) as format `@udf(\"string\")` or `@udf(StringType())`.\n",
    "3. Apply onto column(s) of choice (remembering that Spark is immutable).\n",
    "\n",
    "Alternatively, if we want to use Pandas framework:\n",
    "1. Create a function with a `@pandas_udf()` decorator and format as required.\n",
    "2. Apply onto column(s) of choice."
   ]
  },
  {
   "cell_type": "markdown",
   "id": "43cfe392",
   "metadata": {},
   "source": [
    "In the following example, we will create a tuple consisting of pickup lat/lon to 4 decimal places."
   ]
  },
  {
   "cell_type": "code",
   "execution_count": null,
   "id": "3808d483",
   "metadata": {
    "ExecuteTime": {
     "end_time": "2021-07-04T02:46:17.893091Z",
     "start_time": "2021-07-04T02:46:17.890608Z"
    }
   },
   "outputs": [],
   "source": [
    "# using UDF\n",
    "@F.udf(ArrayType(DoubleType(), True))\n",
    "def create_coords(lat, lon):\n",
    "    return round(lat, 4), round(lon, 4)"
   ]
  },
  {
   "cell_type": "code",
   "execution_count": null,
   "id": "522148b3",
   "metadata": {
    "ExecuteTime": {
     "end_time": "2021-07-04T02:46:19.247612Z",
     "start_time": "2021-07-04T02:46:18.262554Z"
    },
    "scrolled": true
   },
   "outputs": [],
   "source": [
    "small_sdf.withColumn(\"pickup_coords\", create_coords(col(\"pickup_latitude\"), col(\"pickup_longitude\"))) \\\n",
    "    .limit(10)"
   ]
  },
  {
   "cell_type": "markdown",
   "id": "9276beec",
   "metadata": {},
   "source": [
    "And here's an example of mapping values from our data dictionary using a Pandas UDF:\n",
    "- Type definition Syntax: https://www.python.org/dev/peps/pep-0484/#type-definition-syntax\n",
    "- Function Decorators: https://johnpaton.net/posts/clean-spark-udfs/\n",
    "\n",
    "The Pandas UDF is also quite new so there isn't much *help* other than the documentation: https://spark.apache.org/docs/latest/api/python/reference/api/pyspark.sql.functions.pandas_udf.html?highlight=pandas%20udf\n",
    "\n",
    "Syntax:\n",
    "```python\n",
    "@pandas_udf(THE DATATYPE OF THE OUTPUT)\n",
    "def FUNCTION_NAME(ARGUMENTS: INPUT DATA FORMAT) -> OUTPUT DATA FORMAT:\n",
    "    ...\n",
    "    return ...\n",
    "\n",
    "sdf.withColumn(COLUMN OUT, FUNCTION_NAME(col(COLUMN IN)))\n",
    "```"
   ]
  },
  {
   "cell_type": "code",
   "execution_count": null,
   "id": "dcec5375",
   "metadata": {
    "ExecuteTime": {
     "end_time": "2021-07-04T02:46:22.401172Z",
     "start_time": "2021-07-04T02:46:22.398536Z"
    }
   },
   "outputs": [],
   "source": [
    "from pyspark.sql.functions import pandas_udf, PandasUDFType"
   ]
  },
  {
   "cell_type": "code",
   "execution_count": null,
   "id": "032ccb16",
   "metadata": {
    "ExecuteTime": {
     "end_time": "2021-07-04T02:46:22.608592Z",
     "start_time": "2021-07-04T02:46:22.587296Z"
    }
   },
   "outputs": [],
   "source": [
    "vendors = {1: 'Creative Mobile Technologies, LLC', 2: 'VeriFone Inc.'}\n",
    "\n",
    "@pandas_udf(\"string\")\n",
    "def vendorMap(vid_col: pd.Series) -> pd.Series:\n",
    "    return vid_col.map(vendors)"
   ]
  },
  {
   "cell_type": "code",
   "execution_count": null,
   "id": "a360d69c",
   "metadata": {
    "ExecuteTime": {
     "end_time": "2021-07-04T02:46:23.891004Z",
     "start_time": "2021-07-04T02:46:22.778917Z"
    },
    "scrolled": true
   },
   "outputs": [],
   "source": [
    "small_sdf.withColumn(\"VendorName\", vendorMap(col(\"VendorID\"))) \\\n",
    "    .limit(10)"
   ]
  },
  {
   "cell_type": "markdown",
   "id": "9de8ffa1",
   "metadata": {},
   "source": [
    "And that's the basics of PySpark! If you would like to further increase your scope, here are some pathways:\n",
    "- Data Science: Continue with Spark's MLlib to perform machine learning.\n",
    "- Data Engineering: Learn Spark SQL and Spark Connectors (i.e connecting to data sources such as S3 buckets)"
   ]
  }
 ],
 "metadata": {
  "kernelspec": {
   "display_name": "Python 3",
   "language": "python",
   "name": "python3"
  },
  "language_info": {
   "codemirror_mode": {
    "name": "ipython",
    "version": 3
   },
   "file_extension": ".py",
   "mimetype": "text/x-python",
   "name": "python",
   "nbconvert_exporter": "python",
   "pygments_lexer": "ipython3",
   "version": "3.8.10"
  },
  "latex_envs": {
   "LaTeX_envs_menu_present": true,
   "autoclose": false,
   "autocomplete": true,
   "bibliofile": "biblio.bib",
   "cite_by": "apalike",
   "current_citInitial": 1,
   "eqLabelWithNumbers": true,
   "eqNumInitial": 1,
   "hotkeys": {
    "equation": "Ctrl-E",
    "itemize": "Ctrl-I"
   },
   "labels_anchors": false,
   "latex_user_defs": false,
   "report_style_numbering": false,
   "user_envs_cfg": false
  },
  "toc": {
   "base_numbering": 1,
   "nav_menu": {},
   "number_sections": true,
   "sideBar": true,
   "skip_h1_title": false,
   "title_cell": "Table of Contents",
   "title_sidebar": "Contents",
   "toc_cell": false,
   "toc_position": {},
   "toc_section_display": true,
   "toc_window_display": false
  },
  "varInspector": {
   "cols": {
    "lenName": 16,
    "lenType": 16,
    "lenVar": 40
   },
   "kernels_config": {
    "python": {
     "delete_cmd_postfix": "",
     "delete_cmd_prefix": "del ",
     "library": "var_list.py",
     "varRefreshCmd": "print(var_dic_list())"
    },
    "r": {
     "delete_cmd_postfix": ") ",
     "delete_cmd_prefix": "rm(",
     "library": "var_list.r",
     "varRefreshCmd": "cat(var_dic_list()) "
    }
   },
   "types_to_exclude": [
    "module",
    "function",
    "builtin_function_or_method",
    "instance",
    "_Feature"
   ],
   "window_display": false
  }
 },
 "nbformat": 4,
 "nbformat_minor": 5
}
