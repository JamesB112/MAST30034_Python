{
 "cells": [
  {
   "cell_type": "code",
   "execution_count": 1,
   "id": "ed90ea12",
   "metadata": {
    "ExecuteTime": {
     "end_time": "2021-08-25T01:20:37.735449Z",
     "start_time": "2021-08-25T01:20:37.545915Z"
    }
   },
   "outputs": [
    {
     "data": {
      "text/html": [
       "<div>\n",
       "<style scoped>\n",
       "    .dataframe tbody tr th:only-of-type {\n",
       "        vertical-align: middle;\n",
       "    }\n",
       "\n",
       "    .dataframe tbody tr th {\n",
       "        vertical-align: top;\n",
       "    }\n",
       "\n",
       "    .dataframe thead th {\n",
       "        text-align: right;\n",
       "    }\n",
       "</style>\n",
       "<table border=\"1\" class=\"dataframe\">\n",
       "  <thead>\n",
       "    <tr style=\"text-align: right;\">\n",
       "      <th></th>\n",
       "      <th>LocationID</th>\n",
       "      <th>Borough</th>\n",
       "      <th>Zone</th>\n",
       "      <th>service_zone</th>\n",
       "    </tr>\n",
       "  </thead>\n",
       "  <tbody>\n",
       "    <tr>\n",
       "      <th>260</th>\n",
       "      <td>261</td>\n",
       "      <td>Manhattan</td>\n",
       "      <td>World Trade Center</td>\n",
       "      <td>Yellow Zone</td>\n",
       "    </tr>\n",
       "    <tr>\n",
       "      <th>261</th>\n",
       "      <td>262</td>\n",
       "      <td>Manhattan</td>\n",
       "      <td>Yorkville East</td>\n",
       "      <td>Yellow Zone</td>\n",
       "    </tr>\n",
       "    <tr>\n",
       "      <th>262</th>\n",
       "      <td>263</td>\n",
       "      <td>Manhattan</td>\n",
       "      <td>Yorkville West</td>\n",
       "      <td>Yellow Zone</td>\n",
       "    </tr>\n",
       "    <tr>\n",
       "      <th>263</th>\n",
       "      <td>264</td>\n",
       "      <td>Unknown</td>\n",
       "      <td>NV</td>\n",
       "      <td>NaN</td>\n",
       "    </tr>\n",
       "    <tr>\n",
       "      <th>264</th>\n",
       "      <td>265</td>\n",
       "      <td>Unknown</td>\n",
       "      <td>NaN</td>\n",
       "      <td>NaN</td>\n",
       "    </tr>\n",
       "  </tbody>\n",
       "</table>\n",
       "</div>"
      ],
      "text/plain": [
       "     LocationID    Borough                Zone service_zone\n",
       "260         261  Manhattan  World Trade Center  Yellow Zone\n",
       "261         262  Manhattan      Yorkville East  Yellow Zone\n",
       "262         263  Manhattan      Yorkville West  Yellow Zone\n",
       "263         264    Unknown                  NV          NaN\n",
       "264         265    Unknown                 NaN          NaN"
      ]
     },
     "execution_count": 1,
     "metadata": {},
     "output_type": "execute_result"
    }
   ],
   "source": [
    "import pandas as pd\n",
    "\n",
    "df = pd.read_csv('taxi_zones/taxi+_zone_lookup.csv')\n",
    "df.tail()"
   ]
  },
  {
   "cell_type": "code",
   "execution_count": 3,
   "id": "7d96b5cd",
   "metadata": {
    "ExecuteTime": {
     "end_time": "2021-08-25T01:21:14.748096Z",
     "start_time": "2021-08-25T01:21:14.746313Z"
    }
   },
   "outputs": [],
   "source": [
    "import numpy as np"
   ]
  },
  {
   "cell_type": "code",
   "execution_count": 11,
   "id": "fbe94021",
   "metadata": {
    "ExecuteTime": {
     "end_time": "2021-08-25T01:22:28.547556Z",
     "start_time": "2021-08-25T01:22:28.540841Z"
    }
   },
   "outputs": [
    {
     "data": {
      "text/plain": [
       "['Allerton/Pelham Gardens',\n",
       " 'Bedford Park',\n",
       " 'Belmont',\n",
       " 'Bronx Park',\n",
       " 'Bronxdale',\n",
       " 'City Island',\n",
       " 'Claremont/Bathgate',\n",
       " 'Co-Op City',\n",
       " 'Country Club',\n",
       " 'Crotona Park',\n",
       " 'Crotona Park East',\n",
       " 'East Concourse/Concourse Village',\n",
       " 'East Tremont',\n",
       " 'Eastchester',\n",
       " 'Fordham South',\n",
       " 'Highbridge',\n",
       " 'Hunts Point',\n",
       " 'Kingsbridge Heights',\n",
       " 'Longwood',\n",
       " 'Melrose South',\n",
       " 'Morrisania/Melrose',\n",
       " 'Mott Haven/Port Morris',\n",
       " 'Mount Hope',\n",
       " 'Norwood',\n",
       " 'Parkchester',\n",
       " 'Pelham Bay',\n",
       " 'Pelham Bay Park',\n",
       " 'Pelham Parkway',\n",
       " 'Rikers Island',\n",
       " 'Riverdale/North Riverdale/Fieldston',\n",
       " 'Schuylerville/Edgewater Park',\n",
       " 'Soundview/Bruckner',\n",
       " 'Soundview/Castle Hill',\n",
       " 'Spuyten Duyvil/Kingsbridge',\n",
       " 'University Heights/Morris Heights',\n",
       " 'Van Cortlandt Park',\n",
       " 'Van Cortlandt Village',\n",
       " 'Van Nest/Morris Park',\n",
       " 'West Concourse',\n",
       " 'West Farms/Bronx River',\n",
       " 'Westchester Village/Unionport',\n",
       " 'Williamsbridge/Olinville',\n",
       " 'Woodlawn/Wakefield']"
      ]
     },
     "execution_count": 11,
     "metadata": {},
     "output_type": "execute_result"
    }
   ],
   "source": [
    "df.groupby('Borough').agg({'Zone': list, 'LocationID': 'count'})['Zone'].values[0]"
   ]
  },
  {
   "cell_type": "code",
   "execution_count": null,
   "id": "b3b3b09c",
   "metadata": {},
   "outputs": [],
   "source": []
  }
 ],
 "metadata": {
  "kernelspec": {
   "display_name": "Python 3",
   "language": "python",
   "name": "python3"
  },
  "language_info": {
   "codemirror_mode": {
    "name": "ipython",
    "version": 3
   },
   "file_extension": ".py",
   "mimetype": "text/x-python",
   "name": "python",
   "nbconvert_exporter": "python",
   "pygments_lexer": "ipython3",
   "version": "3.8.10"
  },
  "latex_envs": {
   "LaTeX_envs_menu_present": true,
   "autoclose": false,
   "autocomplete": true,
   "bibliofile": "biblio.bib",
   "cite_by": "apalike",
   "current_citInitial": 1,
   "eqLabelWithNumbers": true,
   "eqNumInitial": 1,
   "hotkeys": {
    "equation": "Ctrl-E",
    "itemize": "Ctrl-I"
   },
   "labels_anchors": false,
   "latex_user_defs": false,
   "report_style_numbering": false,
   "user_envs_cfg": false
  },
  "toc": {
   "base_numbering": 1,
   "nav_menu": {},
   "number_sections": true,
   "sideBar": true,
   "skip_h1_title": false,
   "title_cell": "Table of Contents",
   "title_sidebar": "Contents",
   "toc_cell": false,
   "toc_position": {},
   "toc_section_display": true,
   "toc_window_display": false
  },
  "varInspector": {
   "cols": {
    "lenName": 16,
    "lenType": 16,
    "lenVar": 40
   },
   "kernels_config": {
    "python": {
     "delete_cmd_postfix": "",
     "delete_cmd_prefix": "del ",
     "library": "var_list.py",
     "varRefreshCmd": "print(var_dic_list())"
    },
    "r": {
     "delete_cmd_postfix": ") ",
     "delete_cmd_prefix": "rm(",
     "library": "var_list.r",
     "varRefreshCmd": "cat(var_dic_list()) "
    }
   },
   "types_to_exclude": [
    "module",
    "function",
    "builtin_function_or_method",
    "instance",
    "_Feature"
   ],
   "window_display": false
  }
 },
 "nbformat": 4,
 "nbformat_minor": 5
}
